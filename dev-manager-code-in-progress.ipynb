{
 "cells": [
  {
   "cell_type": "code",
   "execution_count": 2,
   "metadata": {},
   "outputs": [],
   "source": [
    "from fasthtml.common import *\n",
    "from fasthtml.jupyter import JupyUvi, HTMX\n",
    "from dataclasses import dataclass\n",
    "from datetime import datetime\n",
    "from math import ceil\n",
    "\n",
    "db = database('trfc.db')\n",
    "\n",
    "app, rt = fast_app(pico=True)"
   ]
  },
  {
   "cell_type": "code",
   "execution_count": 3,
   "metadata": {},
   "outputs": [],
   "source": [
    "data = {\n",
    "    'min_season': 1921,\n",
    "    'max_season': 2024,\n",
    "    'pens_as_draw': 1,\n",
    "}\n",
    "\n",
    "venues = ('H', 'A', 'N')\n",
    "\n",
    "min_games = 10\n",
    "\n",
    "focus = 'm.manager_name'"
   ]
  },
  {
   "cell_type": "code",
   "execution_count": 56,
   "metadata": {},
   "outputs": [],
   "source": [
    "def man_rec_query(manager = None):\n",
    "    man_query = f'AND m.manager_name = \"{manager}\"'\n",
    "\n",
    "    return f'''\n",
    "        SELECT\n",
    "            {focus},\n",
    "            COUNT(*) as P,\n",
    "            COUNT(\n",
    "                CASE WHEN\n",
    "                    (:pens_as_draw = 0 AND (c.pens_outcome IS NOT NULL AND c.pens_outcome = 'W') OR (c.pens_outcome IS NULL AND r.outcome = 'W'))\n",
    "                OR \n",
    "                    (:pens_as_draw = 1 AND r.outcome = 'W')\n",
    "                THEN 1 END) as W,\n",
    "            COUNT(\n",
    "                CASE WHEN\n",
    "                    (:pens_as_draw = 0 AND (c.pens_outcome IS NOT NULL AND c.pens_outcome = 'D') OR (c.pens_outcome IS NULL AND r.outcome = 'D'))\n",
    "                OR\n",
    "                    (:pens_as_draw = 1 AND r.outcome = 'D')\n",
    "                THEN 1 END) as D,\n",
    "            COUNT(\n",
    "                CASE WHEN \n",
    "                    (:pens_as_draw = 0 AND (c.pens_outcome IS NOT NULL AND c.pens_outcome = 'L') OR (c.pens_outcome IS NULL AND r.outcome = 'L'))\n",
    "                OR \n",
    "                    (:pens_as_draw = 1 AND r.outcome = 'L')\n",
    "                THEN 1 END) as L,\n",
    "            SUM(r.goals_for) as GF,\n",
    "            SUM(r.goals_against) as GA,\n",
    "            SUM(r.goals_for) - SUM(r.goals_against) as GD,\n",
    "            ROUND(CAST(COUNT(CASE \n",
    "                WHEN (:pens_as_draw = 0 AND (c.pens_outcome IS NOT NULL AND c.pens_outcome = 'W') OR (c.pens_outcome IS NULL AND r.outcome = 'W'))\n",
    "                OR (:pens_as_draw = 1 AND r.outcome = 'W')\n",
    "                THEN 1 END) AS FLOAT) / COUNT(*) * 100, 1) as win_pc\n",
    "        FROM results r\n",
    "        LEFT JOIN cup_game_details c ON r.game_date = c.game_date\n",
    "        LEFT JOIN manager_reigns mr ON r.game_date >= mr.mgr_date_from\n",
    "            AND (r.game_date <= mr.mgr_date_to OR mr.mgr_date_to IS NULL)\n",
    "        LEFT JOIN managers m ON mr.manager_id = m.manager_id\n",
    "        LEFT JOIN season_league_tiers slt ON r.season = slt.season AND r.game_type = 'League'\n",
    "        WHERE CAST(SUBSTRING(r.season, 1, 4) AS INTEGER) >= {data['min_season']} \n",
    "            AND CAST(SUBSTRING(r.season, 1, 4) AS INTEGER) <= {data['max_season']}\n",
    "            AND r.venue IN ('H', 'A', 'N')\n",
    "            {f\"{man_query if manager else ''}\"}\n",
    "        GROUP BY {focus}\n",
    "        HAVING COUNT(*) >= {min_games}\n",
    "        ORDER BY P DESC\n",
    "    '''"
   ]
  },
  {
   "cell_type": "code",
   "execution_count": 57,
   "metadata": {},
   "outputs": [],
   "source": [
    "pens_as_draw = 1"
   ]
  },
  {
   "cell_type": "code",
   "execution_count": 61,
   "metadata": {},
   "outputs": [
    {
     "data": {
      "text/plain": [
       "[('Nigel Adkins', 48, 18, 8, 21, 67, 70, -3, 37.5)]"
      ]
     },
     "execution_count": 61,
     "metadata": {},
     "output_type": "execute_result"
    }
   ],
   "source": [
    "def man_recs(query):\n",
    "    return db.execute(query, {\"pens_as_draw\": data['pens_as_draw']}).fetchall()\n",
    "\n",
    "man_recs(man_rec_query('Nigel Adkins'))"
   ]
  },
  {
   "cell_type": "code",
   "execution_count": 96,
   "metadata": {},
   "outputs": [],
   "source": [
    "def man_rec_html(man_records):\n",
    "    css = 'display: flex; flex-direction: column;'\n",
    "    \n",
    "    return Div(*[Div(\n",
    "        *[Div(str(record[i])) for i, _ in enumerate(record)],\n",
    "          id=f\"{record[0]}\") for record in man_records], cls=f'{css}')"
   ]
  },
  {
   "cell_type": "code",
   "execution_count": 97,
   "metadata": {},
   "outputs": [
    {
     "data": {
      "text/markdown": [
       "```html\n",
       "<div class=\"display: flex; flex-direction: column;\">\n",
       "  <div id=\"Nigel Adkins\">\n",
       "    <div>Nigel Adkins</div>\n",
       "    <div>48</div>\n",
       "    <div>18</div>\n",
       "    <div>8</div>\n",
       "    <div>21</div>\n",
       "    <div>67</div>\n",
       "    <div>70</div>\n",
       "    <div>-3</div>\n",
       "    <div>37.5</div>\n",
       "  </div>\n",
       "</div>\n",
       "\n",
       "```"
      ],
      "text/plain": [
       "div((div((div(('Nigel Adkins',),{}), div(('48',),{}), div(('18',),{}), div(('8',),{}), div(('21',),{}), div(('67',),{}), div(('70',),{}), div(('-3',),{}), div(('37.5',),{})),{'id': 'Nigel Adkins'}),),{'class': 'display: flex; flex-direction: column;'})"
      ]
     },
     "execution_count": 97,
     "metadata": {},
     "output_type": "execute_result"
    }
   ],
   "source": [
    "man_rec_html(man_recs(man_rec_query('Nigel Adkins')))"
   ]
  },
  {
   "cell_type": "code",
   "execution_count": 93,
   "metadata": {},
   "outputs": [],
   "source": [
    "@rt('/')\n",
    "def index():\n",
    "    return man_rec_html(man_recs(man_rec_query('Nigel Adkins')))"
   ]
  },
  {
   "cell_type": "code",
   "execution_count": 94,
   "metadata": {},
   "outputs": [],
   "source": [
    "# server = JupyUvi(app)"
   ]
  },
  {
   "cell_type": "code",
   "execution_count": 95,
   "metadata": {},
   "outputs": [
    {
     "data": {
      "text/html": [
       "<iframe src=\"http://localhost:8000\" style=\"width: 100%; height: auto; border: none;\" onload=\"{\n",
       "        let frame = this;\n",
       "        window.addEventListener('message', function(e) {\n",
       "            if (e.source !== frame.contentWindow) return; // Only proceed if the message is from this iframe\n",
       "            if (e.data.height) frame.style.height = (e.data.height+1) + 'px';\n",
       "        }, false);\n",
       "    }\" allow=\"accelerometer; autoplay; camera; clipboard-read; clipboard-write; display-capture; encrypted-media; fullscreen; gamepad; geolocation; gyroscope; hid; identity-credentials-get; idle-detection; magnetometer; microphone; midi; payment; picture-in-picture; publickey-credentials-get; screen-wake-lock; serial; usb; web-share; xr-spatial-tracking\"></iframe> "
      ],
      "text/plain": [
       "<IPython.core.display.HTML object>"
      ]
     },
     "execution_count": 95,
     "metadata": {},
     "output_type": "execute_result"
    }
   ],
   "source": [
    "HTMX()"
   ]
  },
  {
   "cell_type": "code",
   "execution_count": null,
   "metadata": {},
   "outputs": [],
   "source": []
  }
 ],
 "metadata": {
  "kernelspec": {
   "display_name": "Python 3",
   "language": "python",
   "name": "python3"
  },
  "language_info": {
   "codemirror_mode": {
    "name": "ipython",
    "version": 3
   },
   "file_extension": ".py",
   "mimetype": "text/x-python",
   "name": "python",
   "nbconvert_exporter": "python",
   "pygments_lexer": "ipython3",
   "version": "3.12.5"
  }
 },
 "nbformat": 4,
 "nbformat_minor": 2
}
