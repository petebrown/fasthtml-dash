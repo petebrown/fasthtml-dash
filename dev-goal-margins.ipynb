{
 "cells": [
  {
   "cell_type": "code",
   "execution_count": 6,
   "metadata": {},
   "outputs": [],
   "source": [
    "from fasthtml.common import *\n",
    "from fasthtml.jupyter import JupyUvi, HTMX\n",
    "from dataclasses import dataclass\n",
    "from datetime import datetime\n",
    "from math import ceil\n",
    "import pandas as pd"
   ]
  },
  {
   "cell_type": "code",
   "execution_count": 7,
   "metadata": {},
   "outputs": [],
   "source": [
    "db = database('trfc.db')"
   ]
  },
  {
   "cell_type": "code",
   "execution_count": 8,
   "metadata": {},
   "outputs": [],
   "source": [
    "app, rt = fast_app()"
   ]
  },
  {
   "cell_type": "code",
   "execution_count": 9,
   "metadata": {},
   "outputs": [],
   "source": [
    "data = {\n",
    "    'min_season': 1921,\n",
    "    'max_season': 2024\n",
    "}\n",
    "\n",
    "venues = ('H', 'A', 'N')\n",
    "\n",
    "min_games = 10"
   ]
  },
  {
   "cell_type": "code",
   "execution_count": 26,
   "metadata": {},
   "outputs": [],
   "source": [
    "focus = 'r.season'\n",
    "focus = 'r.opposition'\n",
    "focus = 'm.manager_name'"
   ]
  },
  {
   "cell_type": "code",
   "execution_count": 27,
   "metadata": {},
   "outputs": [],
   "source": [
    "query = f'''\n",
    "    SELECT \n",
    "            {focus},\n",
    "            COUNT(*) as P,\n",
    "            COUNT(CASE WHEN r.goals_for - r.goals_against == 1 THEN 1 END) as gd_plus_one,\n",
    "            COUNT(CASE WHEN r.goals_for - r.goals_against == 2 THEN 1 END) as gd_plus_two,\n",
    "            COUNT(CASE WHEN r.goals_for - r.goals_against == 3 THEN 1 END) as gd_plus_three,\n",
    "            COUNT(CASE WHEN r.goals_for - r.goals_against == 4 THEN 1 END) as gd_plus_four,\n",
    "            COUNT(CASE WHEN r.goals_for - r.goals_against >= 5 THEN 1 END) as gd_plus_five_plus,\n",
    "            COUNT(CASE WHEN r.goals_for == r.goals_against THEN 1 END) as gd_zero,\n",
    "            COUNT(CASE WHEN r.goals_against - r.goals_for == 1 THEN 1 END) as gd_minus_one,\n",
    "            COUNT(CASE WHEN r.goals_against - r.goals_for == 2 THEN 1 END) as gd_minus_two,\n",
    "            COUNT(CASE WHEN r.goals_against - r.goals_for == 3 THEN 1 END) as gd_minus_three,\n",
    "            COUNT(CASE WHEN r.goals_against - r.goals_for == 4 THEN 1 END) as gd_minus_four,\n",
    "            COUNT(CASE WHEN r.goals_against - r.goals_for >= 5 THEN 1 END) as gd_minus_five_plus\n",
    "        FROM results r\n",
    "        LEFT JOIN manager_reigns mr ON r.game_date >= mr.mgr_date_from\n",
    "            AND (r.game_date <= mr.mgr_date_to OR mr.mgr_date_to IS NULL)\n",
    "        LEFT JOIN managers m ON mr.manager_id = m.manager_id\n",
    "        LEFT JOIN season_league_tiers slt ON r.season = slt.season AND r.game_type = 'League'\n",
    "        WHERE CAST(SUBSTRING(r.season, 1, 4) AS INTEGER) >= {data['min_season']} AND CAST(SUBSTRING(r.season, 1, 4) AS INTEGER) <= {data['max_season']}\n",
    "            AND r.venue IN ('H', 'A', 'N')\n",
    "        GROUP BY {focus}\n",
    "        HAVING COUNT(*) >= {min_games}\n",
    "        ORDER BY P DESC\n",
    "'''"
   ]
  },
  {
   "cell_type": "code",
   "execution_count": 42,
   "metadata": {},
   "outputs": [
    {
     "data": {
      "text/plain": [
       "'gd_plus_one'"
      ]
     },
     "execution_count": 42,
     "metadata": {},
     "output_type": "execute_result"
    }
   ],
   "source": [
    "df = pd.read_sql(query, db.conn)\n",
    "\n",
    "df.sort_values(df.columns[0])\n",
    "\n",
    "df.columns[2:len(df.columns)]\n",
    "\n",
    "# third column of df\n",
    "df.columns[2]"
   ]
  },
  {
   "cell_type": "code",
   "execution_count": null,
   "metadata": {},
   "outputs": [],
   "source": []
  }
 ],
 "metadata": {
  "kernelspec": {
   "display_name": "Python 3",
   "language": "python",
   "name": "python3"
  },
  "language_info": {
   "codemirror_mode": {
    "name": "ipython",
    "version": 3
   },
   "file_extension": ".py",
   "mimetype": "text/x-python",
   "name": "python",
   "nbconvert_exporter": "python",
   "pygments_lexer": "ipython3",
   "version": "3.13.0"
  }
 },
 "nbformat": 4,
 "nbformat_minor": 2
}
