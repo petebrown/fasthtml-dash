{
 "cells": [
  {
   "cell_type": "code",
   "execution_count": 1,
   "metadata": {},
   "outputs": [
    {
     "name": "stdout",
     "output_type": "stream",
     "text": [
      "Response status: 200\n",
      "Content length: 25698304 bytes\n",
      "File size after writing: 25698304 bytes\n"
     ]
    }
   ],
   "source": [
    "from fasthtml.common import *\n",
    "from fasthtml.jupyter import JupyUvi, HTMX\n",
    "from dataclasses import dataclass\n",
    "from datetime import datetime\n",
    "from math import ceil\n",
    "import pandas as pd\n",
    "import os\n",
    "from dotenv import load_dotenv\n",
    "import requests\n",
    "\n",
    "load_dotenv()\n",
    "\n",
    "github_token = os.getenv('GITHUB_TOKEN')\n",
    "\n",
    "url = 'https://api.github.com/repos/petebrown/prepare-sql-db/contents/trfc.db'\n",
    "headers = {\n",
    "    'Authorization': f'token {github_token}',\n",
    "    'Accept': 'application/vnd.github.v3.raw'\n",
    "}\n",
    "\n",
    "response = requests.get(url, headers=headers)\n",
    "\n",
    "print(f\"Response status: {response.status_code}\")\n",
    "print(f\"Content length: {len(response.content)} bytes\")\n",
    "\n",
    "# Only write if we got a successful response\n",
    "if response.status_code == 200:\n",
    "    with open('trfc.db', 'wb') as f:\n",
    "        f.write(response.content)\n",
    "    print(f\"File size after writing: {os.path.getsize('trfc.db')} bytes\")\n",
    "else:\n",
    "    print(f\"Error: {response.text}\")"
   ]
  },
  {
   "cell_type": "code",
   "execution_count": 2,
   "metadata": {},
   "outputs": [],
   "source": [
    "db = database('trfc.db')\n",
    "\n",
    "app, rt = fast_app()"
   ]
  },
  {
   "cell_type": "code",
   "execution_count": 18,
   "metadata": {},
   "outputs": [
    {
     "data": {
      "text/plain": [
       "[\"Associate Members' Cup\", 'FA Cup', 'Football League', 'League Cup']"
      ]
     },
     "execution_count": 18,
     "metadata": {},
     "output_type": "execute_result"
    }
   ],
   "source": [
    "seasons = ['2024/25', '2023/24']\n",
    "\n",
    "placeholders = ','.join(['?' for _ in seasons])\n",
    "[r['generic_comp'] for r in db.query(f\"SELECT DISTINCT(generic_comp) FROM results r WHERE r.season IN ({placeholders}) ORDER BY generic_comp\", seasons)]"
   ]
  },
  {
   "cell_type": "code",
   "execution_count": 6,
   "metadata": {},
   "outputs": [],
   "source": [
    "def get_plr_game_goals(season):\n",
    "\n",
    "    params = [season]\n",
    "\n",
    "    query = f\"\"\"\n",
    "        SELECT \n",
    "            p.surname || ', ' || p.forename as player,\n",
    "            r.game_no,\n",
    "            COUNT(g.player_id) as goals_scored,\n",
    "            COUNT(yc.player_id) as yellow_cards,\n",
    "            COUNT(rc.player_id) as red_cards,\n",
    "            COALESCE(rc.min_so, subs_off.sub_min_off, cgd.game_length, 90) - COALESCE(subs_on.sub_min_on, 0) as mins_played\n",
    "        FROM results r\n",
    "        LEFT JOIN player_apps pa ON r.game_date = pa.game_date\n",
    "        LEFT JOIN players p ON pa.player_id = p.player_id\n",
    "        LEFT JOIN goals g ON r.game_date = g.game_date AND pa.player_id = g.player_id\n",
    "        LEFT JOIN cards_yellow yc ON r.game_date = yc.game_date AND pa.player_id = yc.player_id\n",
    "        LEFT JOIN cards_red rc ON r.game_date = rc.game_date AND pa.player_id = rc.player_id\n",
    "        LEFT JOIN subs_on ON r.game_date = subs_on.game_date AND pa.player_id = subs_on.player_on_id\n",
    "        LEFT JOIN subs_off ON r.game_date = subs_off.game_date AND pa.player_id = subs_off.player_off_id\n",
    "        LEFT JOIN cup_game_details cgd ON r.game_date = cgd.game_date\n",
    "        WHERE r.season = ?\n",
    "        GROUP BY player, r.game_no\n",
    "        ORDER BY player, game_no\n",
    "    \"\"\"\n",
    "\n",
    "    cursor = db.conn.execute(query, params)\n",
    "    columns = [description[0] for description in cursor.description]\n",
    "    return [dict(zip(columns, record)) for record in cursor.fetchall()]\n",
    "\n",
    "app, rt = fast_app()\n",
    "\n",
    "df = get_plr_game_goals('2002/03')\n",
    "\n",
    "df = pd.DataFrame(df)\n",
    "\n",
    "df['goals_scored'] = df['goals_scored'].astype('Int64')\n",
    "\n",
    "goals_scored = df.pivot(\n",
    "    index='player',\n",
    "    columns='game_no',\n",
    "    values='goals_scored'\n",
    ")\n",
    "\n",
    "mins_played = df.pivot(\n",
    "    index='player',\n",
    "    columns='game_no',\n",
    "    values='mins_played'\n",
    ")\n",
    "\n",
    "def mins_cls(mins):\n",
    "    if pd.isna(mins):\n",
    "        return \"mins-dnp\"\n",
    "    elif mins == 0:\n",
    "        return \"mins-inj-time\"\n",
    "    else:\n",
    "        return f\"mins-{int(mins)}\"\n",
    "\n",
    "@rt(\"/\")\n",
    "def get():\n",
    "    return Titled(\n",
    "        \"Soccer Goals Table\",\n",
    "        P(\"Goals scored by player and game\"),\n",
    "        Table(\n",
    "            Thead(\n",
    "                Tr(\n",
    "                    Th(\"Player\"),\n",
    "                    *[Th(col) for col in goals_scored.columns]\n",
    "                )\n",
    "            ),\n",
    "            Tbody(\n",
    "                *[Tr(\n",
    "                    Td(player),\n",
    "                    *[Td(str(val).replace('0', ''),\n",
    "                        cls=mins_cls(mins_played.loc[player, col])\n",
    "                      ) \n",
    "                      for val, col in zip(goals_scored.loc[player], goals_scored.columns)]\n",
    "                ) for player in goals_scored.index]\n",
    "            )\n",
    "        )\n",
    "    )"
   ]
  },
  {
   "cell_type": "code",
   "execution_count": null,
   "metadata": {},
   "outputs": [],
   "source": [
    "server = JupyUvi(app)"
   ]
  },
  {
   "cell_type": "code",
   "execution_count": null,
   "metadata": {},
   "outputs": [],
   "source": [
    "HTMX()"
   ]
  },
  {
   "cell_type": "code",
   "execution_count": 9,
   "metadata": {},
   "outputs": [],
   "source": [
    "server.stop()"
   ]
  },
  {
   "cell_type": "code",
   "execution_count": null,
   "metadata": {},
   "outputs": [],
   "source": []
  }
 ],
 "metadata": {
  "kernelspec": {
   "display_name": "3.13.1",
   "language": "python",
   "name": "python3"
  },
  "language_info": {
   "codemirror_mode": {
    "name": "ipython",
    "version": 3
   },
   "file_extension": ".py",
   "mimetype": "text/x-python",
   "name": "python",
   "nbconvert_exporter": "python",
   "pygments_lexer": "ipython3",
   "version": "3.13.1"
  }
 },
 "nbformat": 4,
 "nbformat_minor": 2
}
