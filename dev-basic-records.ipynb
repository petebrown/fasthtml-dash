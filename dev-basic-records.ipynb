{
 "cells": [
  {
   "cell_type": "code",
   "execution_count": 1,
   "metadata": {},
   "outputs": [],
   "source": [
    "from fasthtml.common import *\n",
    "from fasthtml.jupyter import JupyUvi, HTMX\n",
    "from dataclasses import dataclass\n",
    "from datetime import datetime\n",
    "from math import ceil\n",
    "import pandas as pd"
   ]
  },
  {
   "cell_type": "code",
   "execution_count": 2,
   "metadata": {},
   "outputs": [],
   "source": [
    "db = database('trfc.db')"
   ]
  },
  {
   "cell_type": "code",
   "execution_count": 3,
   "metadata": {},
   "outputs": [],
   "source": [
    "app, rt = fast_app()"
   ]
  },
  {
   "cell_type": "code",
   "execution_count": 4,
   "metadata": {},
   "outputs": [],
   "source": [
    "server = JupyUvi(app)"
   ]
  },
  {
   "cell_type": "code",
   "execution_count": 5,
   "metadata": {},
   "outputs": [],
   "source": [
    "data = {\n",
    "    'min_season': 1921,\n",
    "    'max_season': 2024\n",
    "}\n",
    "\n",
    "venues = ('H', 'A', 'N')\n",
    "\n",
    "min_games = 10"
   ]
  },
  {
   "cell_type": "code",
   "execution_count": 6,
   "metadata": {},
   "outputs": [],
   "source": [
    "focus = 'm.manager_name'\n",
    "focus = 'r.season'\n",
    "focus = 'r.opposition'"
   ]
  },
  {
   "cell_type": "code",
   "execution_count": 9,
   "metadata": {},
   "outputs": [],
   "source": [
    "query = f'''\n",
    "    SELECT \n",
    "            {focus},\n",
    "            COUNT(*) as P,\n",
    "            COUNT(CASE WHEN r.outcome = 'W' THEN 1 END) as W,\n",
    "            COUNT(CASE WHEN r.outcome = 'D' THEN 1 END) as D,\n",
    "            COUNT(CASE WHEN r.outcome = 'L' THEN 1 END) as L,\n",
    "            SUM(r.goals_for) as GF,\n",
    "            SUM(r.goals_against) as GA,\n",
    "            SUM(r.goals_for) - SUM(r.goals_against) as GD,\n",
    "            ROUND(CAST(COUNT(CASE WHEN r.outcome = 'W' THEN 1 END) AS FLOAT) / COUNT(*) * 100, 1) as win_pc\n",
    "        FROM results r\n",
    "        LEFT JOIN manager_reigns mr ON r.game_date >= mr.mgr_date_from\n",
    "            AND (r.game_date <= mr.mgr_date_to OR mr.mgr_date_to IS NULL)\n",
    "        LEFT JOIN managers m ON mr.manager_id = m.manager_id\n",
    "        LEFT JOIN league_tiers lt ON r.season = lt.season AND r.game_type = 'League'\n",
    "        WHERE CAST(SUBSTRING(r.season, 1, 4) AS INTEGER) >= {data['min_season']} AND CAST(SUBSTRING(r.season, 1, 4) AS INTEGER) <= {data['max_season']}\n",
    "            AND r.venue IN ('H', 'A', 'N')\n",
    "        GROUP BY {focus}\n",
    "        HAVING COUNT(*) >= {min_games}\n",
    "        ORDER BY P DESC\n",
    "'''"
   ]
  },
  {
   "cell_type": "code",
   "execution_count": 10,
   "metadata": {},
   "outputs": [
    {
     "data": {
      "text/html": [
       "<div>\n",
       "<style scoped>\n",
       "    .dataframe tbody tr th:only-of-type {\n",
       "        vertical-align: middle;\n",
       "    }\n",
       "\n",
       "    .dataframe tbody tr th {\n",
       "        vertical-align: top;\n",
       "    }\n",
       "\n",
       "    .dataframe thead th {\n",
       "        text-align: right;\n",
       "    }\n",
       "</style>\n",
       "<table border=\"1\" class=\"dataframe\">\n",
       "  <thead>\n",
       "    <tr style=\"text-align: right;\">\n",
       "      <th></th>\n",
       "      <th>opposition</th>\n",
       "      <th>P</th>\n",
       "      <th>W</th>\n",
       "      <th>D</th>\n",
       "      <th>L</th>\n",
       "      <th>GF</th>\n",
       "      <th>GA</th>\n",
       "      <th>GD</th>\n",
       "      <th>win_pc</th>\n",
       "    </tr>\n",
       "  </thead>\n",
       "  <tbody>\n",
       "    <tr>\n",
       "      <th>29</th>\n",
       "      <td>Barnsley</td>\n",
       "      <td>56</td>\n",
       "      <td>14</td>\n",
       "      <td>18</td>\n",
       "      <td>24</td>\n",
       "      <td>71.0</td>\n",
       "      <td>87.0</td>\n",
       "      <td>-16.0</td>\n",
       "      <td>25.0</td>\n",
       "    </tr>\n",
       "  </tbody>\n",
       "</table>\n",
       "</div>"
      ],
      "text/plain": [
       "   opposition   P   W   D   L    GF    GA    GD  win_pc\n",
       "29   Barnsley  56  14  18  24  71.0  87.0 -16.0    25.0"
      ]
     },
     "execution_count": 10,
     "metadata": {},
     "output_type": "execute_result"
    }
   ],
   "source": [
    "df = pd.read_sql(query, db.conn)\n",
    "\n",
    "df.query(\"opposition=='Barnsley'\")"
   ]
  },
  {
   "cell_type": "code",
   "execution_count": 18,
   "metadata": {},
   "outputs": [],
   "source": [
    "# server.stop()"
   ]
  }
 ],
 "metadata": {
  "kernelspec": {
   "display_name": "3.12.5",
   "language": "python",
   "name": "python3"
  },
  "language_info": {
   "codemirror_mode": {
    "name": "ipython",
    "version": 3
   },
   "file_extension": ".py",
   "mimetype": "text/x-python",
   "name": "python",
   "nbconvert_exporter": "python",
   "pygments_lexer": "ipython3",
   "version": "3.12.5"
  }
 },
 "nbformat": 4,
 "nbformat_minor": 2
}
