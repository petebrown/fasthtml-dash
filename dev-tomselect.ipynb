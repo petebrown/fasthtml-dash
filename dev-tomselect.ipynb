{
 "cells": [
  {
   "cell_type": "code",
   "execution_count": 1,
   "metadata": {},
   "outputs": [],
   "source": [
    "from fasthtml.common import *\n",
    "from fasthtml.jupyter import JupyUvi, HTMX\n",
    "from dataclasses import dataclass\n",
    "from datetime import datetime\n",
    "from math import ceil"
   ]
  },
  {
   "cell_type": "code",
   "execution_count": 2,
   "metadata": {},
   "outputs": [],
   "source": [
    "app, rt = fast_app(\n",
    "    hdrs = (\n",
    "        Link(rel=\"stylesheet\", href=\"https://cdn.jsdelivr.net/npm/tom-select@2.4.1/dist/css/tom-select.css\"),\n",
    "        Script(src=\"https://cdn.jsdelivr.net/npm/tom-select@2.4.1/dist/js/tom-select.complete.min.js\")\n",
    "    )\n",
    ")"
   ]
  },
  {
   "cell_type": "code",
   "execution_count": 3,
   "metadata": {},
   "outputs": [],
   "source": [
    "server = JupyUvi(app)"
   ]
  },
  {
   "cell_type": "code",
   "execution_count": 4,
   "metadata": {},
   "outputs": [],
   "source": [
    "ssn_selector = Script('''\n",
    "    new TomSelect(\"#select-season\",{\n",
    "    });\n",
    "''')"
   ]
  },
  {
   "cell_type": "code",
   "execution_count": 5,
   "metadata": {},
   "outputs": [],
   "source": [
    "season_options = ['2022/23', '2023/24', '2024/25']"
   ]
  },
  {
   "cell_type": "code",
   "execution_count": 6,
   "metadata": {},
   "outputs": [],
   "source": [
    "@app.get(\"/\")\n",
    "def index():\n",
    "    return Div(\n",
    "        Form(\n",
    "            Select(\n",
    "                *season_options,\n",
    "                cls='form-select',\n",
    "                id='select-season'\n",
    "            ),\n",
    "            Button('Submit'),\n",
    "            hx_post='/season-results',\n",
    "            hx_target='#chosen_seasons'\n",
    "        ),\n",
    "        Div(id='chosen_seasons')\n",
    "    )"
   ]
  },
  {
   "cell_type": "code",
   "execution_count": null,
   "metadata": {},
   "outputs": [],
   "source": [
    "Form(\n",
    "    Select(\n",
    "        *[Option(str(season), value=str(season), selected=True) for season in season_options],\n",
    "        multiple=True,\n",
    "        placeholder=\"Select season...\",\n",
    "        autocomplete=\"off\",\n",
    "        cls='form-select',\n",
    "        id='select-season'\n",
    "    ),\n",
    "    Button('Submit'),\n",
    "    hx_post='/season-results',\n",
    "    hx_target='#chosen_seasons'\n",
    ")"
   ]
  },
  {
   "cell_type": "code",
   "execution_count": null,
   "metadata": {},
   "outputs": [],
   "source": [
    "HTMX()"
   ]
  },
  {
   "cell_type": "code",
   "execution_count": null,
   "metadata": {},
   "outputs": [],
   "source": [
    "server.stop()"
   ]
  },
  {
   "cell_type": "code",
   "execution_count": null,
   "metadata": {},
   "outputs": [],
   "source": []
  }
 ],
 "metadata": {
  "kernelspec": {
   "display_name": "3.12.5",
   "language": "python",
   "name": "python3"
  },
  "language_info": {
   "codemirror_mode": {
    "name": "ipython",
    "version": 3
   },
   "file_extension": ".py",
   "mimetype": "text/x-python",
   "name": "python",
   "nbconvert_exporter": "python",
   "pygments_lexer": "ipython3",
   "version": "3.12.5"
  }
 },
 "nbformat": 4,
 "nbformat_minor": 2
}
