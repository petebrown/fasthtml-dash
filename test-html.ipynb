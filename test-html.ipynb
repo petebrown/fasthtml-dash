{
 "cells": [
  {
   "cell_type": "code",
   "execution_count": 32,
   "metadata": {},
   "outputs": [],
   "source": [
    "from starlette.testclient import TestClient\n",
    "from fasthtml.common import *\n",
    "from fasthtml.jupyter import JupyUvi, HTMX\n",
    "from dataclasses import dataclass, field\n",
    "from typing import List, Literal"
   ]
  },
  {
   "cell_type": "code",
   "execution_count": 33,
   "metadata": {},
   "outputs": [],
   "source": [
    "from dataclasses import dataclass, field\n",
    "from typing import List\n",
    "from enum import Enum\n",
    "\n",
    "MIN_GAMES = 10\n",
    "MIN_APPS = 10\n",
    "\n",
    "class AppsType(Enum):\n",
    "    APPS = 'apps'\n",
    "    STARTS = 'starts'\n",
    "\n",
    "@dataclass\n",
    "class Season:\n",
    "    season: int\n",
    "\n",
    "    def __post_init__(self):\n",
    "        if not 1921 <= self.season <= 2024:\n",
    "            raise ValueError('Invalid season year')\n",
    "\n",
    "@dataclass\n",
    "class LeagueTiers:\n",
    "    league_tiers: List[int] = field(default_factory=list)\n",
    "\n",
    "@dataclass\n",
    "class CupCompetitions:\n",
    "    cup_competitions: List[str] = field(default_factory=list)\n",
    "\n",
    "@dataclass\n",
    "class Venues:\n",
    "    venues: List[str] = field(default_factory=list)\n",
    "\n",
    "@dataclass(kw_only=True)\n",
    "class AllRecords:\n",
    "    min_season: Season\n",
    "    max_season: Season\n",
    "    league_tiers: LeagueTiers\n",
    "    cup_competitions: CupCompetitions\n",
    "    venues: Venues\n",
    "    inc_playoffs: bool = field(default=True)\n",
    "    pens_as_draw: bool = field(default=True)\n",
    "\n",
    "@dataclass\n",
    "class SeasonRecordsAll(AllRecords):    \n",
    "    min_game_no: int = field(default=1)\n",
    "    max_game_no: int = field(default=65)\n",
    "\n",
    "@dataclass\n",
    "class Head2HeadRecords(AllRecords):\n",
    "    team_name: str\n",
    "    min_meetings: int = field(default=MIN_GAMES)\n",
    "\n",
    "@dataclass\n",
    "class Head2HeadRecordsAll(AllRecords):\n",
    "    min_meetings: int = field(default=MIN_GAMES)\n",
    "\n",
    "@dataclass\n",
    "class ManagerRecords(AllRecords):\n",
    "    manager_name: str\n",
    "\n",
    "@dataclass\n",
    "class ManagerRecordsAll(AllRecords):\n",
    "    min_games: int = field(default=MIN_GAMES)\n",
    "\n",
    "@dataclass\n",
    "class PlayerRecords(AllRecords):\n",
    "    player_name: str\n",
    "\n",
    "@dataclass\n",
    "class PlayerRecordsAll(AllRecords):\n",
    "    min_apps: int = field(default=MIN_APPS)\n",
    "    apps_or_starts: str = field(default='starts')"
   ]
  },
  {
   "cell_type": "code",
   "execution_count": 19,
   "metadata": {},
   "outputs": [],
   "source": [
    "app, rt = fast_app(pico=True)\n",
    "\n",
    "server = JupyUvi(app)"
   ]
  },
  {
   "cell_type": "code",
   "execution_count": 20,
   "metadata": {},
   "outputs": [
    {
     "data": {
      "text/html": [
       "<fieldset><legend>Include play-off games?</legend>  <input type=\"radio\" name=\"inc_playoffs\" value=\"1\" checked>\n",
       "<label>Yes</label>  <input type=\"radio\" name=\"inc_playoffs\">\n",
       "<label>No</label></fieldset>"
      ],
      "text/plain": [
       "<IPython.core.display.HTML object>"
      ]
     },
     "execution_count": 20,
     "metadata": {},
     "output_type": "execute_result"
    }
   ],
   "source": [
    "radio = Fieldset(\n",
    "    Legend('Include play-off games?'),\n",
    "    Input(type='radio', name='inc_playoffs', value=1, checked=True),\n",
    "    Label('Yes'),\n",
    "    Input(type='radio', name='inc_playoffs', value=0),\n",
    "    Label('No')\n",
    ")\n",
    "\n",
    "show(radio)"
   ]
  },
  {
   "cell_type": "code",
   "execution_count": 21,
   "metadata": {},
   "outputs": [
    {
     "data": {
      "text/html": [
       "<div>\n",
       "1921  <input type=\"range\" name=\"min_ssn\" value=\"1921\" placeholder=\"1921\" min=\"1921\" max=\"2024\" step=\"1\" hx-on-input=\"document.getElementById('min_ssn_display').innerText = this.value;\" id=\"min_ssn\">\n",
       "<span id=\"min_ssn_display\">1921</span></div>\n",
       "<div>\n",
       "  <input type=\"range\" name=\"max_ssn\" value=\"2024\" placeholder=\"Max.\" min=\"1921\" max=\"2024\" step=\"1\" hx-on-input=\"document.getElementById('max_ssn_display').innerText = this.value;\" id=\"id\">\n",
       "<span id=\"max_ssn_display\">2024</span></div>\n"
      ],
      "text/plain": [
       "<IPython.core.display.HTML object>"
      ]
     },
     "execution_count": 21,
     "metadata": {},
     "output_type": "execute_result"
    }
   ],
   "source": [
    "ssns = [1921, 2024]\n",
    "\n",
    "range = Input(\n",
    "    name=f\"min_ssn\",\n",
    "    type=\"range\",\n",
    "    value=f\"1921\",\n",
    "    placeholder=f\"Min season\",\n",
    "    min=1921,\n",
    "    max=2021,\n",
    "    step=1,\n",
    "    id=f\"min_ssn\"\n",
    ")\n",
    "\n",
    "input_range = (Div(\n",
    "    '1921', \n",
    "    Input(\n",
    "        type=\"range\",\n",
    "        name=f\"min_ssn\",\n",
    "        value=f\"1921\",\n",
    "        placeholder=f\"1921\",\n",
    "        min=1921,\n",
    "        max=2024,\n",
    "        step=1,\n",
    "        id=f\"min_ssn\",\n",
    "        hx_on_input=f\"document.getElementById('min_ssn_display').innerText = this.value;\"\n",
    "    ),\n",
    "    Span(min(ssns), id=\"min_ssn_display\")\n",
    "),\n",
    "Div(\n",
    "    Input(\n",
    "        type=\"range\",\n",
    "        name=f\"max_ssn\",\n",
    "        value=f\"2024\",\n",
    "        placeholder=f\"Max.\",\n",
    "        min=1921,\n",
    "        max=2024,\n",
    "        step=1,\n",
    "        id=f\"id\",\n",
    "        hx_on_input=f\"document.getElementById('max_ssn_display').innerText = this.value;\"\n",
    "    ),\n",
    "    Span(max(ssns), id=\"max_ssn_display\")\n",
    "))\n",
    "\n",
    "show(input_range)"
   ]
  },
  {
   "cell_type": "code",
   "execution_count": 22,
   "metadata": {},
   "outputs": [
    {
     "data": {
      "text/html": [
       "<input type=\"range\" name=\"min_ssn\" value=\"1921\" placeholder=\"1921\" min=\"1921\" max=\"2024\" step=\"1\" hx-on-input=\"document.getElementById('min_ssn_display').innerText = this.value;\" id=\"min_ssn\">\n",
       "<span id=\"min_ssn_display\">1921</span>"
      ],
      "text/plain": [
       "<IPython.core.display.HTML object>"
      ]
     },
     "execution_count": 22,
     "metadata": {},
     "output_type": "execute_result"
    }
   ],
   "source": [
    "show(\n",
    "    Input(\n",
    "        type=\"range\",\n",
    "        name=f\"min_ssn\",\n",
    "        value=f\"1921\",\n",
    "        placeholder=f\"1921\",\n",
    "        min=1921,\n",
    "        max=2024,\n",
    "        step=1,\n",
    "        id=f\"min_ssn\",\n",
    "        hx_on_input=f\"document.getElementById('min_ssn_display').innerText = this.value;\"\n",
    "    ),\n",
    "    Span(f\"1921\", id=f\"min_ssn_display\")\n",
    ")"
   ]
  },
  {
   "cell_type": "code",
   "execution_count": 23,
   "metadata": {},
   "outputs": [
    {
     "data": {
      "text/html": [
       "<div>\n",
       "  <input name=\"min_season\" type=\"number\" value=\"1921\" placeholder=\"Minimum season\" min=\"1921\" max=\"2024\" step=\"1\" id=\"min_season\">\n",
       " -   <input name=\"max_season\" type=\"number\" value=\"2024\" placeholder=\"Maximum season\" min=\"1921\" max=\"2024\" step=\"1\" id=\"max_season\">\n",
       "</div>\n"
      ],
      "text/plain": [
       "<IPython.core.display.HTML object>"
      ]
     },
     "execution_count": 23,
     "metadata": {},
     "output_type": "execute_result"
    }
   ],
   "source": [
    "input_nos = Div(\n",
    "    Input(\n",
    "        name=f\"min_season\",\n",
    "        type=\"number\",\n",
    "        value=min(ssns),\n",
    "        placeholder=f\"Minimum season\",\n",
    "        min=min(ssns),\n",
    "        max=max(ssns),\n",
    "        step=1,\n",
    "        id=f\"min_season\"\n",
    "    ),\" - \",\n",
    "    Input(\n",
    "        name=f\"max_season\",\n",
    "        type=\"number\",\n",
    "        value=max(ssns),\n",
    "        placeholder=f\"Maximum season\",\n",
    "        min=min(ssns),\n",
    "        max=max(ssns),\n",
    "        step=1,\n",
    "        id=f\"max_season\"\n",
    "    )\n",
    ")\n",
    "\n",
    "show(input_nos)"
   ]
  },
  {
   "cell_type": "code",
   "execution_count": 24,
   "metadata": {},
   "outputs": [
    {
     "data": {
      "text/html": [
       "<div>\n",
       "<label>    <input type=\"hidden\" name=\"league_tiers\" skip>\n",
       "    <input type=\"checkbox\" name=\"league_tiers\" checked value=\"2\">\n",
       "2: Championship</label><label>    <input type=\"hidden\" name=\"league_tiers\" skip>\n",
       "    <input type=\"checkbox\" name=\"league_tiers\" checked value=\"3\">\n",
       "3: League One</label><label>    <input type=\"hidden\" name=\"league_tiers\" skip>\n",
       "    <input type=\"checkbox\" name=\"league_tiers\" checked value=\"4\">\n",
       "4: League Two</label><label>    <input type=\"hidden\" name=\"league_tiers\" skip>\n",
       "    <input type=\"checkbox\" name=\"league_tiers\" checked value=\"5\">\n",
       "5: National League</label></div>\n"
      ],
      "text/plain": [
       "<IPython.core.display.HTML object>"
      ]
     },
     "execution_count": 24,
     "metadata": {},
     "output_type": "execute_result"
    }
   ],
   "source": [
    "league_tiers = {\n",
    "    2: '2: Championship',\n",
    "    3: '3: League One',\n",
    "    4: '4: League Two',\n",
    "    5: '5: National League'\n",
    "}\n",
    "\n",
    "def checkboxes(field: str, items: dict):\n",
    "        checkboxes = [(Label(CheckboxX(\n",
    "            name=field,\n",
    "            value=k,\n",
    "            checked=True\n",
    "        ), v)) for k, v in items.items()]\n",
    "    \n",
    "        return Div(*checkboxes)\n",
    "\n",
    "lge_checkboxes = checkboxes('league_tiers', league_tiers)\n",
    "\n",
    "show(lge_checkboxes)"
   ]
  },
  {
   "cell_type": "code",
   "execution_count": 25,
   "metadata": {},
   "outputs": [
    {
     "data": {
      "text/html": [
       "<div>\n",
       "<label>    <input type=\"hidden\" name=\"comps\" skip>\n",
       "    <input type=\"checkbox\" name=\"comps\" checked value=\"Anglo-Italian Cup\">\n",
       "Anglo-Italian Cup</label><label>    <input type=\"hidden\" name=\"comps\" skip>\n",
       "    <input type=\"checkbox\" name=\"comps\" checked value=\"Associate Members' Cup\">\n",
       "Associate Members&#x27; Cup</label><label>    <input type=\"hidden\" name=\"comps\" skip>\n",
       "    <input type=\"checkbox\" name=\"comps\" checked value=\"FA Cup\">\n",
       "FA Cup</label><label>    <input type=\"hidden\" name=\"comps\" skip>\n",
       "    <input type=\"checkbox\" name=\"comps\" checked value=\"FA Trophy\">\n",
       "FA Trophy</label><label>    <input type=\"hidden\" name=\"comps\" skip>\n",
       "    <input type=\"checkbox\" name=\"comps\" checked value=\"Full Members' Cup\">\n",
       "Full Members&#x27; Cup</label><label>    <input type=\"hidden\" name=\"comps\" skip>\n",
       "    <input type=\"checkbox\" name=\"comps\" checked value=\"League Cup\">\n",
       "League Cup</label><label>    <input type=\"hidden\" name=\"comps\" skip>\n",
       "    <input type=\"checkbox\" name=\"comps\" checked value=\"War League\">\n",
       "War League</label></div>\n"
      ],
      "text/plain": [
       "<IPython.core.display.HTML object>"
      ]
     },
     "execution_count": 25,
     "metadata": {},
     "output_type": "execute_result"
    }
   ],
   "source": [
    "comps = {\n",
    "    'Anglo-Italian Cup': 'Anglo-Italian Cup',\n",
    "    'Associate Members\\' Cup': 'Associate Members\\' Cup',\n",
    "    'FA Cup': 'FA Cup',\n",
    "    'FA Trophy': 'FA Trophy',\n",
    "    'Full Members\\' Cup': 'Full Members\\' Cup',\n",
    "    'League Cup': 'League Cup',\n",
    "    'War League': 'War League'\n",
    "}\n",
    "\n",
    "def checkboxes(field: str, items: dict):\n",
    "        checkboxes = [(Label(CheckboxX(\n",
    "            name=field,\n",
    "            value=k,\n",
    "            checked=True\n",
    "        ), v)) for k, v in items.items()]\n",
    "    \n",
    "        return Div(*checkboxes)\n",
    "\n",
    "comp_checkboxes = checkboxes('comps', comps)\n",
    "\n",
    "show(comp_checkboxes)"
   ]
  },
  {
   "cell_type": "code",
   "execution_count": 26,
   "metadata": {},
   "outputs": [
    {
     "data": {
      "text/html": [
       "<div>\n",
       "<label>    <input type=\"hidden\" name=\"venues\" skip>\n",
       "    <input type=\"checkbox\" name=\"venues\" checked value=\"H\">\n",
       "Home</label><label>    <input type=\"hidden\" name=\"venues\" skip>\n",
       "    <input type=\"checkbox\" name=\"venues\" checked value=\"A\">\n",
       "Away</label><label>    <input type=\"hidden\" name=\"venues\" skip>\n",
       "    <input type=\"checkbox\" name=\"venues\" checked value=\"N\">\n",
       "Neutral</label></div>\n"
      ],
      "text/plain": [
       "<IPython.core.display.HTML object>"
      ]
     },
     "execution_count": 26,
     "metadata": {},
     "output_type": "execute_result"
    }
   ],
   "source": [
    "venues = {\n",
    "    'H': 'Home',\n",
    "    'A': 'Away',\n",
    "    'N': 'Neutral'\n",
    "}\n",
    "\n",
    "def checkboxes(field: str, items: dict):\n",
    "        checkboxes = [(Label(CheckboxX(\n",
    "            name=field,\n",
    "            value=k,\n",
    "            checked=True\n",
    "        ), v)) for k, v in items.items()]\n",
    "    \n",
    "        return Div(*checkboxes)\n",
    "\n",
    "venue_checkboxes = checkboxes('venues', venues)\n",
    "\n",
    "show(venue_checkboxes)"
   ]
  },
  {
   "cell_type": "code",
   "execution_count": 27,
   "metadata": {},
   "outputs": [],
   "source": [
    "@rt(\"/\")\n",
    "def get():\n",
    "    return Form(\n",
    "        input_nos,\n",
    "        input_range,\n",
    "        Hr(),\n",
    "        lge_checkboxes,\n",
    "        radio,\n",
    "        Hr(),\n",
    "        comp_checkboxes,\n",
    "        Hr(),\n",
    "        venue_checkboxes,\n",
    "    )"
   ]
  },
  {
   "cell_type": "code",
   "execution_count": 28,
   "metadata": {},
   "outputs": [],
   "source": [
    "@rt(\"/radios\")\n",
    "async def post(request):\n",
    "    return Div(\n",
    "        f'{await request.form()}'\n",
    "    )"
   ]
  },
  {
   "cell_type": "code",
   "execution_count": 29,
   "metadata": {},
   "outputs": [
    {
     "data": {
      "text/html": [
       "<iframe src=\"http://localhost:8000\" style=\"width: 100%; height: auto; border: none;\" onload=\"{\n",
       "        let frame = this;\n",
       "        window.addEventListener('message', function(e) {\n",
       "            if (e.source !== frame.contentWindow) return; // Only proceed if the message is from this iframe\n",
       "            if (e.data.height) frame.style.height = (e.data.height+1) + 'px';\n",
       "        }, false);\n",
       "    }\" allow=\"accelerometer; autoplay; camera; clipboard-read; clipboard-write; display-capture; encrypted-media; fullscreen; gamepad; geolocation; gyroscope; hid; identity-credentials-get; idle-detection; magnetometer; microphone; midi; payment; picture-in-picture; publickey-credentials-get; screen-wake-lock; serial; usb; web-share; xr-spatial-tracking\"></iframe> "
      ],
      "text/plain": [
       "<IPython.core.display.HTML object>"
      ]
     },
     "execution_count": 29,
     "metadata": {},
     "output_type": "execute_result"
    }
   ],
   "source": [
    "HTMX()"
   ]
  },
  {
   "cell_type": "code",
   "execution_count": null,
   "metadata": {},
   "outputs": [],
   "source": []
  }
 ],
 "metadata": {
  "kernelspec": {
   "display_name": "3.12.5",
   "language": "python",
   "name": "python3"
  },
  "language_info": {
   "codemirror_mode": {
    "name": "ipython",
    "version": 3
   },
   "file_extension": ".py",
   "mimetype": "text/x-python",
   "name": "python",
   "nbconvert_exporter": "python",
   "pygments_lexer": "ipython3",
   "version": "3.12.5"
  }
 },
 "nbformat": 4,
 "nbformat_minor": 2
}
