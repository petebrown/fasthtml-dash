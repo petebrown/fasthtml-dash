{
 "cells": [
  {
   "cell_type": "code",
   "execution_count": 20,
   "metadata": {},
   "outputs": [],
   "source": [
    "from fasthtml.common import *\n",
    "from fasthtml.jupyter import JupyUvi, HTMX\n",
    "from dataclasses import dataclass\n",
    "from datetime import datetime\n",
    "from math import ceil\n",
    "import pandas as pd"
   ]
  },
  {
   "cell_type": "code",
   "execution_count": 21,
   "metadata": {},
   "outputs": [],
   "source": [
    "db = database('trfc.db')"
   ]
  },
  {
   "cell_type": "code",
   "execution_count": 39,
   "metadata": {},
   "outputs": [],
   "source": [
    "query = f'''\n",
    "    SELECT r.*, COALESCE(cg.game_length, 90) as game_length\n",
    "    FROM player_apps pa\n",
    "    LEFT JOIN players p ON pa.player_id = p.player_id\n",
    "    LEFT JOIN results r on pa.game_date = r.game_date\n",
    "    LEFT JOIN goals g on pa.game_date = g.game_date AND pa.player_id = g.player_id\n",
    "    LEFT JOIN cards c on pa.game_date = c.game_date AND pa.player_id = c.player_id\n",
    "    LEFT JOIN cup_game_details cg on pa.game_date = cg.game_date\n",
    "'''"
   ]
  },
  {
   "cell_type": "code",
   "execution_count": 40,
   "metadata": {},
   "outputs": [
    {
     "data": {
      "text/plain": [
       "game_length\n",
       "90     59215\n",
       "120      359\n",
       "116       14\n",
       "Name: count, dtype: int64"
      ]
     },
     "execution_count": 40,
     "metadata": {},
     "output_type": "execute_result"
    }
   ],
   "source": [
    "df = pd.read_sql(query, db.conn)\n",
    "\n",
    "df.game_length.value_counts(dropna=False)"
   ]
  },
  {
   "cell_type": "code",
   "execution_count": null,
   "metadata": {},
   "outputs": [],
   "source": []
  }
 ],
 "metadata": {
  "kernelspec": {
   "display_name": "Python 3",
   "language": "python",
   "name": "python3"
  },
  "language_info": {
   "codemirror_mode": {
    "name": "ipython",
    "version": 3
   },
   "file_extension": ".py",
   "mimetype": "text/x-python",
   "name": "python",
   "nbconvert_exporter": "python",
   "pygments_lexer": "ipython3",
   "version": "3.13.0"
  }
 },
 "nbformat": 4,
 "nbformat_minor": 2
}
