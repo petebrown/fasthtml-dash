{
 "cells": [
  {
   "cell_type": "code",
   "execution_count": 1,
   "metadata": {},
   "outputs": [],
   "source": [
    "from fasthtml.common import *\n",
    "from fasthtml.jupyter import JupyUvi, HTMX\n",
    "from dataclasses import dataclass\n",
    "from datetime import datetime\n",
    "from math import ceil\n",
    "import pandas as pd"
   ]
  },
  {
   "cell_type": "code",
   "execution_count": 2,
   "metadata": {},
   "outputs": [],
   "source": [
    "db = database('trfc.db')"
   ]
  },
  {
   "cell_type": "code",
   "execution_count": 3,
   "metadata": {},
   "outputs": [],
   "source": [
    "app, rt = fast_app()"
   ]
  },
  {
   "cell_type": "code",
   "execution_count": 4,
   "metadata": {},
   "outputs": [],
   "source": [
    "server = JupyUvi(app)"
   ]
  },
  {
   "cell_type": "code",
   "execution_count": 5,
   "metadata": {},
   "outputs": [],
   "source": [
    "query = f'''\n",
    "    SELECT \n",
    "            m.manager_name,\n",
    "            r.*\n",
    "        FROM results r\n",
    "        LEFT JOIN manager_reigns mr ON r.game_date >= mr.mgr_date_from\n",
    "            AND (r.game_date <= mr.mgr_date_to OR mr.mgr_date_to IS NULL)\n",
    "        LEFT JOIN managers m ON mr.manager_id = m.manager_id\n",
    "        LEFT JOIN season_league_tiers slt ON r.season = slt.season AND r.game_type = 'League'\n",
    "'''"
   ]
  },
  {
   "cell_type": "code",
   "execution_count": 6,
   "metadata": {},
   "outputs": [],
   "source": [
    "df = pd.read_sql(query, db.conn)"
   ]
  },
  {
   "cell_type": "code",
   "execution_count": 7,
   "metadata": {},
   "outputs": [],
   "source": [
    "def prepare_streaks(df):\n",
    "    df['is_win'] = df['outcome'] == 'W'\n",
    "    df['is_unbeaten'] = df['outcome'] != 'L'\n",
    "    df['is_clean_sheet'] = df['goals_against'] == 0\n",
    "    df['is_draw'] = df['outcome'] == 'D'\n",
    "    df['is_winless'] = df['outcome'] != 'W'\n",
    "    df['is_loss'] = df['outcome'] == 'L'\n",
    "    df['is_clean_sheet'] = df['goals_against'] == 0\n",
    "    df['is_win_to_nil'] = (df['outcome'] == 'W') & (df['goals_against'] == 0)\n",
    "    df['is_loss_to_nil'] = (df['outcome'] == 'L') & (df['goals_for'] == 0)\n",
    "    return df"
   ]
  },
  {
   "cell_type": "code",
   "execution_count": 8,
   "metadata": {},
   "outputs": [],
   "source": [
    "def get_streak_lengths(group):\n",
    "    streak_groups = (group != group.shift()).cumsum()\n",
    "    return group.groupby(streak_groups).sum()"
   ]
  },
  {
   "cell_type": "code",
   "execution_count": 9,
   "metadata": {},
   "outputs": [],
   "source": [
    "def calc_streaks(df, focus, condition):\n",
    "    return df.groupby(focus)[condition].apply(\n",
    "        lambda x: get_streak_lengths(x).max()\n",
    "    )\n",
    "\n",
    "def get_streaks_df(df, focus):\n",
    "    df = prepare_streaks(df)\n",
    "    \n",
    "    index_name = {\n",
    "        'manager_name': 'Manager',\n",
    "        'player_name': 'Player',\n",
    "        'opposition': 'Opponent',\n",
    "        'season': 'Season'\n",
    "    }\n",
    "\n",
    "    return pd.DataFrame({\n",
    "        'Wins': calc_streaks(df, focus, 'is_win'),\n",
    "        'Unbeaten': calc_streaks(df, focus, 'is_unbeaten'),\n",
    "        'Clean Sheets': calc_streaks(df, focus, 'is_clean_sheet'),\n",
    "        'Wins to nil': calc_streaks(df, focus, 'is_win_to_nil'),\n",
    "        'Draws': calc_streaks(df, focus, 'is_draw'),\n",
    "        'Winless': calc_streaks(df, focus, 'is_winless'),\n",
    "        'Defeats': calc_streaks(df, focus, 'is_loss'),\n",
    "        'Losses to nil': calc_streaks(df, focus, 'is_loss_to_nil')\n",
    "    }).reset_index().rename(columns=index_name)"
   ]
  },
  {
   "cell_type": "code",
   "execution_count": 10,
   "metadata": {},
   "outputs": [
    {
     "data": {
      "text/html": [
       "<div>\n",
       "<style scoped>\n",
       "    .dataframe tbody tr th:only-of-type {\n",
       "        vertical-align: middle;\n",
       "    }\n",
       "\n",
       "    .dataframe tbody tr th {\n",
       "        vertical-align: top;\n",
       "    }\n",
       "\n",
       "    .dataframe thead th {\n",
       "        text-align: right;\n",
       "    }\n",
       "</style>\n",
       "<table border=\"1\" class=\"dataframe\">\n",
       "  <thead>\n",
       "    <tr style=\"text-align: right;\">\n",
       "      <th></th>\n",
       "      <th>Manager</th>\n",
       "      <th>Wins</th>\n",
       "      <th>Unbeaten</th>\n",
       "      <th>Clean Sheets</th>\n",
       "      <th>Wins to nil</th>\n",
       "      <th>Draws</th>\n",
       "      <th>Winless</th>\n",
       "      <th>Defeats</th>\n",
       "      <th>Losses to nil</th>\n",
       "    </tr>\n",
       "  </thead>\n",
       "  <tbody>\n",
       "    <tr>\n",
       "      <th>0</th>\n",
       "      <td>Alan Rogers</td>\n",
       "      <td>0</td>\n",
       "      <td>0</td>\n",
       "      <td>0</td>\n",
       "      <td>0</td>\n",
       "      <td>0</td>\n",
       "      <td>2</td>\n",
       "      <td>2</td>\n",
       "      <td>1</td>\n",
       "    </tr>\n",
       "    <tr>\n",
       "      <th>1</th>\n",
       "      <td>Bert Cooke</td>\n",
       "      <td>7</td>\n",
       "      <td>11</td>\n",
       "      <td>5</td>\n",
       "      <td>5</td>\n",
       "      <td>3</td>\n",
       "      <td>15</td>\n",
       "      <td>7</td>\n",
       "      <td>3</td>\n",
       "    </tr>\n",
       "    <tr>\n",
       "      <th>2</th>\n",
       "      <td>Bill Ridding</td>\n",
       "      <td>2</td>\n",
       "      <td>3</td>\n",
       "      <td>0</td>\n",
       "      <td>0</td>\n",
       "      <td>1</td>\n",
       "      <td>11</td>\n",
       "      <td>10</td>\n",
       "      <td>1</td>\n",
       "    </tr>\n",
       "  </tbody>\n",
       "</table>\n",
       "</div>"
      ],
      "text/plain": [
       "        Manager  Wins  Unbeaten  Clean Sheets  Wins to nil  Draws  Winless  \\\n",
       "0   Alan Rogers     0         0             0            0      0        2   \n",
       "1    Bert Cooke     7        11             5            5      3       15   \n",
       "2  Bill Ridding     2         3             0            0      1       11   \n",
       "\n",
       "   Defeats  Losses to nil  \n",
       "0        2              1  \n",
       "1        7              3  \n",
       "2       10              1  "
      ]
     },
     "execution_count": 10,
     "metadata": {},
     "output_type": "execute_result"
    }
   ],
   "source": [
    "man_streaks = get_streaks_df(df, 'manager_name')\n",
    "\n",
    "man_streaks.head(3)"
   ]
  },
  {
   "cell_type": "code",
   "execution_count": 11,
   "metadata": {},
   "outputs": [
    {
     "data": {
      "text/html": [
       "<div>\n",
       "<style scoped>\n",
       "    .dataframe tbody tr th:only-of-type {\n",
       "        vertical-align: middle;\n",
       "    }\n",
       "\n",
       "    .dataframe tbody tr th {\n",
       "        vertical-align: top;\n",
       "    }\n",
       "\n",
       "    .dataframe thead th {\n",
       "        text-align: right;\n",
       "    }\n",
       "</style>\n",
       "<table border=\"1\" class=\"dataframe\">\n",
       "  <thead>\n",
       "    <tr style=\"text-align: right;\">\n",
       "      <th></th>\n",
       "      <th>Opponent</th>\n",
       "      <th>Wins</th>\n",
       "      <th>Unbeaten</th>\n",
       "      <th>Clean Sheets</th>\n",
       "      <th>Wins to nil</th>\n",
       "      <th>Draws</th>\n",
       "      <th>Winless</th>\n",
       "      <th>Defeats</th>\n",
       "      <th>Losses to nil</th>\n",
       "    </tr>\n",
       "  </thead>\n",
       "  <tbody>\n",
       "    <tr>\n",
       "      <th>0</th>\n",
       "      <td>AFC Bournemouth</td>\n",
       "      <td>2</td>\n",
       "      <td>10</td>\n",
       "      <td>3</td>\n",
       "      <td>2</td>\n",
       "      <td>3</td>\n",
       "      <td>9</td>\n",
       "      <td>5</td>\n",
       "      <td>3</td>\n",
       "    </tr>\n",
       "    <tr>\n",
       "      <th>1</th>\n",
       "      <td>AFC Wimbledon</td>\n",
       "      <td>1</td>\n",
       "      <td>3</td>\n",
       "      <td>1</td>\n",
       "      <td>1</td>\n",
       "      <td>2</td>\n",
       "      <td>3</td>\n",
       "      <td>1</td>\n",
       "      <td>1</td>\n",
       "    </tr>\n",
       "    <tr>\n",
       "      <th>2</th>\n",
       "      <td>Accrington Stanley</td>\n",
       "      <td>4</td>\n",
       "      <td>11</td>\n",
       "      <td>3</td>\n",
       "      <td>2</td>\n",
       "      <td>3</td>\n",
       "      <td>6</td>\n",
       "      <td>5</td>\n",
       "      <td>3</td>\n",
       "    </tr>\n",
       "  </tbody>\n",
       "</table>\n",
       "</div>"
      ],
      "text/plain": [
       "             Opponent  Wins  Unbeaten  Clean Sheets  Wins to nil  Draws  \\\n",
       "0     AFC Bournemouth     2        10             3            2      3   \n",
       "1       AFC Wimbledon     1         3             1            1      2   \n",
       "2  Accrington Stanley     4        11             3            2      3   \n",
       "\n",
       "   Winless  Defeats  Losses to nil  \n",
       "0        9        5              3  \n",
       "1        3        1              1  \n",
       "2        6        5              3  "
      ]
     },
     "execution_count": 11,
     "metadata": {},
     "output_type": "execute_result"
    }
   ],
   "source": [
    "opp_streaks = get_streaks_df(df, 'opposition')\n",
    "\n",
    "opp_streaks.head(3)"
   ]
  },
  {
   "cell_type": "code",
   "execution_count": 12,
   "metadata": {},
   "outputs": [
    {
     "data": {
      "text/html": [
       "<div>\n",
       "<style scoped>\n",
       "    .dataframe tbody tr th:only-of-type {\n",
       "        vertical-align: middle;\n",
       "    }\n",
       "\n",
       "    .dataframe tbody tr th {\n",
       "        vertical-align: top;\n",
       "    }\n",
       "\n",
       "    .dataframe thead th {\n",
       "        text-align: right;\n",
       "    }\n",
       "</style>\n",
       "<table border=\"1\" class=\"dataframe\">\n",
       "  <thead>\n",
       "    <tr style=\"text-align: right;\">\n",
       "      <th></th>\n",
       "      <th>Season</th>\n",
       "      <th>Wins</th>\n",
       "      <th>Unbeaten</th>\n",
       "      <th>Clean Sheets</th>\n",
       "      <th>Wins to nil</th>\n",
       "      <th>Draws</th>\n",
       "      <th>Winless</th>\n",
       "      <th>Defeats</th>\n",
       "      <th>Losses to nil</th>\n",
       "    </tr>\n",
       "  </thead>\n",
       "  <tbody>\n",
       "    <tr>\n",
       "      <th>0</th>\n",
       "      <td>1921/22</td>\n",
       "      <td>2</td>\n",
       "      <td>3</td>\n",
       "      <td>2</td>\n",
       "      <td>1</td>\n",
       "      <td>2</td>\n",
       "      <td>15</td>\n",
       "      <td>6</td>\n",
       "      <td>3</td>\n",
       "    </tr>\n",
       "    <tr>\n",
       "      <th>1</th>\n",
       "      <td>1922/23</td>\n",
       "      <td>4</td>\n",
       "      <td>4</td>\n",
       "      <td>2</td>\n",
       "      <td>2</td>\n",
       "      <td>2</td>\n",
       "      <td>11</td>\n",
       "      <td>7</td>\n",
       "      <td>3</td>\n",
       "    </tr>\n",
       "    <tr>\n",
       "      <th>2</th>\n",
       "      <td>1923/24</td>\n",
       "      <td>3</td>\n",
       "      <td>11</td>\n",
       "      <td>3</td>\n",
       "      <td>2</td>\n",
       "      <td>3</td>\n",
       "      <td>7</td>\n",
       "      <td>4</td>\n",
       "      <td>3</td>\n",
       "    </tr>\n",
       "  </tbody>\n",
       "</table>\n",
       "</div>"
      ],
      "text/plain": [
       "    Season  Wins  Unbeaten  Clean Sheets  Wins to nil  Draws  Winless  \\\n",
       "0  1921/22     2         3             2            1      2       15   \n",
       "1  1922/23     4         4             2            2      2       11   \n",
       "2  1923/24     3        11             3            2      3        7   \n",
       "\n",
       "   Defeats  Losses to nil  \n",
       "0        6              3  \n",
       "1        7              3  \n",
       "2        4              3  "
      ]
     },
     "execution_count": 12,
     "metadata": {},
     "output_type": "execute_result"
    }
   ],
   "source": [
    "ssn_streaks = get_streaks_df(df, 'season')\n",
    "\n",
    "ssn_streaks.head(3)"
   ]
  },
  {
   "cell_type": "code",
   "execution_count": null,
   "metadata": {},
   "outputs": [],
   "source": [
    "def df_to_html(df, table_id='no-id'):    \n",
    "    return Table(\n",
    "        Thead(Tr(*[Th(col) for col in df.columns])),\n",
    "        Tbody(*[Tr(*[Td(row[col]) for col in df.columns]) for idx, row in df.iterrows()]),\n",
    "        id=table_id\n",
    "    )"
   ]
  },
  {
   "cell_type": "code",
   "execution_count": null,
   "metadata": {},
   "outputs": [],
   "source": [
    "@rt('/')\n",
    "def index():\n",
    "    return (\n",
    "        H1('Season Streaks'),\n",
    "        df_to_html(get_streaks_df(df, 'season')[:4], 'ssn-streaks-table'),\n",
    "        H1('Manager Streaks'),\n",
    "        df_to_html(get_streaks_df(df, 'manager_name')[:4], 'mgr-streaks-table'),\n",
    "        H1('Opponent Streaks'),\n",
    "        df_to_html(get_streaks_df(df, 'opposition')[:4], 'opp-streaks-table')\n",
    "    )"
   ]
  },
  {
   "cell_type": "code",
   "execution_count": null,
   "metadata": {},
   "outputs": [],
   "source": [
    "# HTMX()"
   ]
  },
  {
   "cell_type": "code",
   "execution_count": null,
   "metadata": {},
   "outputs": [],
   "source": [
    "# server.stop()"
   ]
  },
  {
   "cell_type": "code",
   "execution_count": null,
   "metadata": {},
   "outputs": [],
   "source": []
  }
 ],
 "metadata": {
  "kernelspec": {
   "display_name": "Python 3",
   "language": "python",
   "name": "python3"
  },
  "language_info": {
   "codemirror_mode": {
    "name": "ipython",
    "version": 3
   },
   "file_extension": ".py",
   "mimetype": "text/x-python",
   "name": "python",
   "nbconvert_exporter": "python",
   "pygments_lexer": "ipython3",
   "version": "3.12.5"
  }
 },
 "nbformat": 4,
 "nbformat_minor": 2
}
