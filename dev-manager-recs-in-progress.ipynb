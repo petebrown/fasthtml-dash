{
 "cells": [
  {
   "cell_type": "code",
   "execution_count": 95,
   "metadata": {},
   "outputs": [],
   "source": [
    "from fasthtml.common import *\n",
    "from fasthtml.jupyter import JupyUvi, HTMX\n",
    "from dataclasses import dataclass\n",
    "from datetime import datetime\n",
    "from math import ceil\n",
    "import pandas as pd"
   ]
  },
  {
   "cell_type": "code",
   "execution_count": 96,
   "metadata": {},
   "outputs": [],
   "source": [
    "db = database('trfc.db')"
   ]
  },
  {
   "cell_type": "code",
   "execution_count": 97,
   "metadata": {},
   "outputs": [],
   "source": [
    "app, rt = fast_app()"
   ]
  },
  {
   "cell_type": "code",
   "execution_count": 98,
   "metadata": {},
   "outputs": [],
   "source": [
    "user_inputs = {\n",
    "    'min_season': 1921,\n",
    "    'max_season': 2024,\n",
    "    'league_tiers': [2, 3, 4, 5],\n",
    "    'inc_play_offs': 1,\n",
    "    'generic_comps': ['Anglo-Italian Cup', \"Associate Members' Cup\", 'FA Cup', 'FA Trophy', \"Full Members' Cup\", 'League Cup'],\n",
    "    'pens_as_draw': 1,\n",
    "    'venues': ['H', 'A', 'N'],\n",
    "    'min_games': 10,\n",
    "    'inc_caretaker': 1,\n",
    "}"
   ]
  },
  {
   "cell_type": "code",
   "execution_count": 99,
   "metadata": {},
   "outputs": [],
   "source": [
    "min_season = user_inputs['min_season']\n",
    "max_season = user_inputs['max_season']\n",
    "league_tiers = user_inputs['league_tiers']\n",
    "inc_play_offs = user_inputs['inc_play_offs']\n",
    "pens_as_draw = user_inputs['pens_as_draw']\n",
    "venues = user_inputs['venues']\n",
    "min_games = user_inputs['min_games']\n",
    "inc_caretaker = user_inputs['inc_caretaker']"
   ]
  },
  {
   "cell_type": "code",
   "execution_count": 100,
   "metadata": {},
   "outputs": [],
   "source": [
    "if inc_play_offs == 0:\n",
    "    po_filter = 'AND COALESCE(c.is_playoff, 0) != 1'\n",
    "else:\n",
    "    po_filter = ''"
   ]
  },
  {
   "cell_type": "code",
   "execution_count": 101,
   "metadata": {},
   "outputs": [],
   "source": [
    "venue_placeholders = ','.join(['?' for _ in venues])"
   ]
  },
  {
   "cell_type": "code",
   "execution_count": 102,
   "metadata": {},
   "outputs": [],
   "source": [
    "tier_placeholders = ','.join(['?' for _ in user_inputs['league_tiers']]) if user_inputs['league_tiers'] else ''\n",
    "\n",
    "comp_placeholders = ','.join(['?' for _ in user_inputs['generic_comps']]) if user_inputs['generic_comps'] else ''"
   ]
  },
  {
   "cell_type": "code",
   "execution_count": 103,
   "metadata": {},
   "outputs": [],
   "source": [
    "tier_comp_filter = ''\n",
    "if tier_placeholders or comp_placeholders:\n",
    "    filters = []\n",
    "    if tier_placeholders:\n",
    "        filters.append(f'r.league_tier IN ({tier_placeholders})')\n",
    "    if comp_placeholders:\n",
    "        filters.append(f'r.generic_comp IN ({comp_placeholders})')\n",
    "    tier_comp_filter = 'AND (' + ' OR '.join(filters) + ')'"
   ]
  },
  {
   "cell_type": "code",
   "execution_count": 104,
   "metadata": {},
   "outputs": [],
   "source": [
    "if inc_caretaker == 0:\n",
    "    caretaker_filter = 'AND mr.mgr_role != \"Caretaker\"'\n",
    "else:\n",
    "    caretaker_filter = ''"
   ]
  },
  {
   "cell_type": "code",
   "execution_count": 105,
   "metadata": {},
   "outputs": [],
   "source": [
    "pens_as_draw = 1"
   ]
  },
  {
   "cell_type": "code",
   "execution_count": 106,
   "metadata": {},
   "outputs": [
    {
     "data": {
      "text/html": [
       "<div>\n",
       "<style scoped>\n",
       "    .dataframe tbody tr th:only-of-type {\n",
       "        vertical-align: middle;\n",
       "    }\n",
       "\n",
       "    .dataframe tbody tr th {\n",
       "        vertical-align: top;\n",
       "    }\n",
       "\n",
       "    .dataframe thead th {\n",
       "        text-align: right;\n",
       "    }\n",
       "</style>\n",
       "<table border=\"1\" class=\"dataframe\">\n",
       "  <thead>\n",
       "    <tr style=\"text-align: right;\">\n",
       "      <th></th>\n",
       "      <th>manager_name</th>\n",
       "      <th>P</th>\n",
       "      <th>W</th>\n",
       "      <th>D</th>\n",
       "      <th>L</th>\n",
       "      <th>GF</th>\n",
       "      <th>GA</th>\n",
       "      <th>GD</th>\n",
       "      <th>win_pc</th>\n",
       "    </tr>\n",
       "  </thead>\n",
       "  <tbody>\n",
       "    <tr>\n",
       "      <th>16</th>\n",
       "      <td>Nigel Adkins</td>\n",
       "      <td>69</td>\n",
       "      <td>24</td>\n",
       "      <td>13</td>\n",
       "      <td>32</td>\n",
       "      <td>88.0</td>\n",
       "      <td>105.0</td>\n",
       "      <td>-17.0</td>\n",
       "      <td>34.8</td>\n",
       "    </tr>\n",
       "  </tbody>\n",
       "</table>\n",
       "</div>"
      ],
      "text/plain": [
       "    manager_name   P   W   D   L    GF     GA    GD  win_pc\n",
       "16  Nigel Adkins  69  24  13  32  88.0  105.0 -17.0    34.8"
      ]
     },
     "execution_count": 106,
     "metadata": {},
     "output_type": "execute_result"
    }
   ],
   "source": [
    "query = f'''\n",
    "    SELECT\n",
    "        m.manager_name,\n",
    "        COUNT(*) as P,\n",
    "        COUNT(\n",
    "            CASE WHEN\n",
    "                (? = 0 AND ((COALESCE(c.is_multi_leg, 0) = 0 AND r.outcome = 'D' AND c.pens_outcome = 'W') OR r.outcome = 'W'))\n",
    "            OR \n",
    "                (? = 1 AND r.outcome = 'W')\n",
    "            THEN 1 END) as W,\n",
    "        COUNT(\n",
    "            CASE WHEN\n",
    "                (? = 0 AND r.outcome = 'D' AND (COALESCE(c.is_pen_shootout, 0) = 0 OR (COALESCE(c.is_pen_shootout, 0) = 1) AND COALESCE(c.is_multi_leg, 0) = 1))\n",
    "            OR \n",
    "                (? = 1 AND r.outcome = 'D')\n",
    "            THEN 1 END) as D,\n",
    "        COUNT(\n",
    "            CASE WHEN\n",
    "                (? = 0 AND ((COALESCE(c.is_multi_leg, 0) = 0 AND r.outcome = 'D' AND c.pens_outcome = 'L') OR r.outcome = 'L'))\n",
    "            OR \n",
    "                (? = 1 AND r.outcome = 'L')\n",
    "            THEN 1 END) as L,\n",
    "        SUM(r.goals_for) as GF,\n",
    "        SUM(r.goals_against) as GA,\n",
    "        SUM(r.goals_for) - SUM(r.goals_against) as GD,\n",
    "        ROUND(CAST(COUNT(\n",
    "            CASE WHEN\n",
    "                (? = 0 AND ((COALESCE(c.is_multi_leg, 0) != 1 AND r.outcome = 'D' AND c.pens_outcome = 'W')) OR r.outcome = 'W')\n",
    "            OR \n",
    "                (? = 1 AND r.outcome = 'W')\n",
    "            THEN 1 END) AS FLOAT) / COUNT(*) * 100, 1) as win_pc\n",
    "    FROM results r\n",
    "    LEFT JOIN cup_game_details c ON r.game_date = c.game_date\n",
    "    LEFT JOIN manager_reigns mr ON r.game_date >= mr.mgr_date_from\n",
    "        AND (r.game_date <= mr.mgr_date_to OR mr.mgr_date_to IS NULL)\n",
    "    LEFT JOIN managers m ON mr.manager_id = m.manager_id\n",
    "    LEFT JOIN seasons s ON r.season = s.season\n",
    "    WHERE s.ssn_start >= ?\n",
    "        AND s.ssn_start <= ?\n",
    "        AND r.venue IN ({venue_placeholders})\n",
    "        {po_filter}\n",
    "        {tier_comp_filter}\n",
    "        {caretaker_filter}\n",
    "    GROUP BY m.manager_name\n",
    "    HAVING COUNT(*) >= ?\n",
    "    ORDER BY P DESC\n",
    "'''\n",
    "\n",
    "params = [\n",
    "    pens_as_draw, pens_as_draw, pens_as_draw, pens_as_draw,\n",
    "    pens_as_draw, pens_as_draw, pens_as_draw, pens_as_draw,\n",
    "    min_season, max_season,\n",
    "    *venues\n",
    "]\n",
    "\n",
    "if user_inputs['league_tiers']:\n",
    "    params.extend(user_inputs['league_tiers'])\n",
    "\n",
    "if user_inputs['generic_comps']:\n",
    "    params.extend(user_inputs['generic_comps'])\n",
    "\n",
    "params.append(min_games)\n",
    "\n",
    "results = db.execute(query, tuple(params))\n",
    "\n",
    "df = pd.DataFrame(\n",
    "    results.fetchall(),\n",
    "    columns=[d[0] for d in results.description]\n",
    ")\n",
    "\n",
    "df.query(\"manager_name=='Nigel Adkins'\")"
   ]
  },
  {
   "cell_type": "code",
   "execution_count": 107,
   "metadata": {},
   "outputs": [],
   "source": [
    "pens_as_draw = 0"
   ]
  },
  {
   "cell_type": "code",
   "execution_count": 108,
   "metadata": {},
   "outputs": [
    {
     "data": {
      "text/html": [
       "<div>\n",
       "<style scoped>\n",
       "    .dataframe tbody tr th:only-of-type {\n",
       "        vertical-align: middle;\n",
       "    }\n",
       "\n",
       "    .dataframe tbody tr th {\n",
       "        vertical-align: top;\n",
       "    }\n",
       "\n",
       "    .dataframe thead th {\n",
       "        text-align: right;\n",
       "    }\n",
       "</style>\n",
       "<table border=\"1\" class=\"dataframe\">\n",
       "  <thead>\n",
       "    <tr style=\"text-align: right;\">\n",
       "      <th></th>\n",
       "      <th>manager_name</th>\n",
       "      <th>P</th>\n",
       "      <th>W</th>\n",
       "      <th>D</th>\n",
       "      <th>L</th>\n",
       "      <th>GF</th>\n",
       "      <th>GA</th>\n",
       "      <th>GD</th>\n",
       "      <th>win_pc</th>\n",
       "    </tr>\n",
       "  </thead>\n",
       "  <tbody>\n",
       "    <tr>\n",
       "      <th>16</th>\n",
       "      <td>Nigel Adkins</td>\n",
       "      <td>69</td>\n",
       "      <td>24</td>\n",
       "      <td>12</td>\n",
       "      <td>33</td>\n",
       "      <td>88.0</td>\n",
       "      <td>105.0</td>\n",
       "      <td>-17.0</td>\n",
       "      <td>34.8</td>\n",
       "    </tr>\n",
       "  </tbody>\n",
       "</table>\n",
       "</div>"
      ],
      "text/plain": [
       "    manager_name   P   W   D   L    GF     GA    GD  win_pc\n",
       "16  Nigel Adkins  69  24  12  33  88.0  105.0 -17.0    34.8"
      ]
     },
     "execution_count": 108,
     "metadata": {},
     "output_type": "execute_result"
    }
   ],
   "source": [
    "query = f'''\n",
    "    SELECT\n",
    "        manager_name,\n",
    "        COUNT(*) as P,\n",
    "        COUNT(\n",
    "            CASE WHEN\n",
    "                (? = 0 AND ((COALESCE(c.is_multi_leg, 0) = 0 AND r.outcome = 'D' AND c.pens_outcome = 'W') OR r.outcome = 'W'))\n",
    "            OR \n",
    "                (? = 1 AND r.outcome = 'W')\n",
    "            THEN 1 END) as W,\n",
    "        COUNT(\n",
    "            CASE WHEN\n",
    "                (? = 0 AND r.outcome = 'D' AND (COALESCE(c.is_pen_shootout, 0) = 0 OR (COALESCE(c.is_pen_shootout, 0) = 1) AND COALESCE(c.is_multi_leg, 0) = 1))\n",
    "            OR \n",
    "                (? = 1 AND r.outcome = 'D')\n",
    "            THEN 1 END) as D,\n",
    "        COUNT(\n",
    "            CASE WHEN\n",
    "                (? = 0 AND ((COALESCE(c.is_multi_leg, 0) = 0 AND r.outcome = 'D' AND c.pens_outcome = 'L') OR r.outcome = 'L'))\n",
    "            OR \n",
    "                (? = 1 AND r.outcome = 'L')\n",
    "            THEN 1 END) as L,\n",
    "        SUM(r.goals_for) as GF,\n",
    "        SUM(r.goals_against) as GA,\n",
    "        SUM(r.goals_for) - SUM(r.goals_against) as GD,\n",
    "        ROUND(CAST(COUNT(\n",
    "            CASE WHEN\n",
    "                (? = 0 AND ((COALESCE(c.is_multi_leg, 0) != 1 AND r.outcome = 'D' AND c.pens_outcome = 'W')) OR r.outcome = 'W')\n",
    "            OR \n",
    "                (? = 1 AND r.outcome = 'W')\n",
    "            THEN 1 END) AS FLOAT) / COUNT(*) * 100, 1) as win_pc\n",
    "    FROM results r\n",
    "    LEFT JOIN cup_game_details c ON r.game_date = c.game_date\n",
    "    LEFT JOIN manager_reigns mr ON r.game_date >= mr.mgr_date_from\n",
    "        AND (r.game_date <= mr.mgr_date_to OR mr.mgr_date_to IS NULL)\n",
    "    LEFT JOIN managers m ON mr.manager_id = m.manager_id\n",
    "    LEFT JOIN seasons s ON r.season = s.season\n",
    "    WHERE s.ssn_start >= ?\n",
    "        AND s.ssn_start <= ?\n",
    "        AND r.venue IN ({venue_placeholders})\n",
    "        {po_filter}\n",
    "        {tier_comp_filter}\n",
    "        {caretaker_filter}\n",
    "    GROUP BY manager_name\n",
    "    HAVING COUNT(*) >= ?\n",
    "    ORDER BY P DESC\n",
    "'''\n",
    "\n",
    "params = [\n",
    "    pens_as_draw, pens_as_draw, pens_as_draw, pens_as_draw,\n",
    "    pens_as_draw, pens_as_draw, pens_as_draw, pens_as_draw,\n",
    "    min_season, max_season,\n",
    "    *venues\n",
    "]\n",
    "\n",
    "if user_inputs['league_tiers']:\n",
    "    params.extend(user_inputs['league_tiers'])\n",
    "\n",
    "if user_inputs['generic_comps']:\n",
    "    params.extend(user_inputs['generic_comps'])\n",
    "\n",
    "params.append(min_games)\n",
    "\n",
    "results = db.execute(query, tuple(params))\n",
    "\n",
    "df = pd.DataFrame(\n",
    "    results.fetchall(),\n",
    "    columns=[d[0] for d in results.description]\n",
    ")\n",
    "\n",
    "df.query(\"manager_name=='Nigel Adkins'\")"
   ]
  },
  {
   "cell_type": "code",
   "execution_count": null,
   "metadata": {},
   "outputs": [],
   "source": []
  }
 ],
 "metadata": {
  "kernelspec": {
   "display_name": "3.12.5",
   "language": "python",
   "name": "python3"
  },
  "language_info": {
   "codemirror_mode": {
    "name": "ipython",
    "version": 3
   },
   "file_extension": ".py",
   "mimetype": "text/x-python",
   "name": "python",
   "nbconvert_exporter": "python",
   "pygments_lexer": "ipython3",
   "version": "3.12.5"
  }
 },
 "nbformat": 4,
 "nbformat_minor": 2
}
