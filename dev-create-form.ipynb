{
 "cells": [
  {
   "cell_type": "code",
   "execution_count": 1,
   "metadata": {},
   "outputs": [
    {
     "data": {
      "text/html": [
       "<link rel=\"stylesheet\" href=\"https://cdn.jsdelivr.net/npm/@picocss/pico@latest/css/pico.min.css\">\n",
       "<style>:root { --pico-font-size: 100%; }</style>\n"
      ],
      "text/plain": [
       "<IPython.core.display.HTML object>"
      ]
     },
     "metadata": {},
     "output_type": "display_data"
    }
   ],
   "source": [
    "from starlette.testclient import TestClient\n",
    "from fasthtml.common import *\n",
    "from fasthtml.jupyter import JupyUvi, HTMX\n",
    "from dataclasses import dataclass, field\n",
    "from typing import List, Literal\n",
    "\n",
    "set_pico_cls()\n",
    "show(picolink)"
   ]
  },
  {
   "cell_type": "code",
   "execution_count": 2,
   "metadata": {},
   "outputs": [],
   "source": [
    "db = database('trfc.db')"
   ]
  },
  {
   "cell_type": "code",
   "execution_count": 8,
   "metadata": {},
   "outputs": [
    {
     "data": {
      "text/plain": [
       "['Anglo-Italian Cup',\n",
       " \"Associate Members' Cup\",\n",
       " 'FA Cup',\n",
       " 'FA Trophy',\n",
       " \"Full Members' Cup\",\n",
       " 'League Cup',\n",
       " 'Third Division Cup']"
      ]
     },
     "execution_count": 8,
     "metadata": {},
     "output_type": "execute_result"
    }
   ],
   "source": [
    "def get_unique(table, col, where='1=1', direction='ASC'):\n",
    "    return [x[f'{col}'] for x in db.q(f\"SELECT DISTINCT {table}.{col} FROM {table} WHERE {where} ORDER BY {col} {direction}\")]\n",
    "\n",
    "get_unique('results', 'generic_comp', 'game_type=\"Cup\"')"
   ]
  },
  {
   "cell_type": "code",
   "execution_count": 25,
   "metadata": {},
   "outputs": [],
   "source": [
    "@dataclass\n",
    "class Head2HeadAll:\n",
    "    min_season: int\n",
    "    max_season: int\n",
    "    league_tiers: list[int]\n",
    "    include_playoffs: bool\n",
    "    cup_competitions: list['str']\n",
    "    pens_as_draws: bool\n",
    "    venues: list['str']\n",
    "    min_meetings: int"
   ]
  },
  {
   "cell_type": "code",
   "execution_count": 29,
   "metadata": {},
   "outputs": [
    {
     "data": {
      "text/html": [
       "<label>Minimum  <input type=\"number\" min=\"1921\" max=\"2024\" value=\"1921\" id=\"min_season\" name=\"min_season\">\n",
       "</label>"
      ],
      "text/plain": [
       "<IPython.core.display.HTML object>"
      ]
     },
     "metadata": {},
     "output_type": "display_data"
    }
   ],
   "source": [
    "def input_number(title: str, id:str, min:int, max:int, value:int): return Label(\n",
    "    f'{title}',\n",
    "    Input(\n",
    "        type='number',\n",
    "        id=f'{id}',\n",
    "        min=min,\n",
    "        max=max,\n",
    "        value=value\n",
    "    )\n",
    ")\n",
    "\n",
    "show(\n",
    "    input_number('Minimum', 'min_season', 1921, 2024, 1921)\n",
    ")"
   ]
  },
  {
   "cell_type": "code",
   "execution_count": 85,
   "metadata": {},
   "outputs": [
    {
     "data": {
      "text/html": [
       "<fieldset><label>    <input type=\"checkbox\" name=\"league_tiers\" value=\"2\" checked>\n",
       "2: Championship</label><label>    <input type=\"checkbox\" name=\"league_tiers\" value=\"3\" checked>\n",
       "3: League One</label><label>    <input type=\"checkbox\" name=\"league_tiers\" value=\"4\" checked>\n",
       "4: League Two</label><label>    <input type=\"checkbox\" name=\"league_tiers\" value=\"5\" checked>\n",
       "5: National League</label></fieldset>"
      ],
      "text/plain": [
       "<IPython.core.display.HTML object>"
      ]
     },
     "metadata": {},
     "output_type": "display_data"
    }
   ],
   "source": [
    "league_tiers = [\n",
    "    '2: Championship',\n",
    "    '3: League One',\n",
    "    '4: League Two',\n",
    "    '5: National League',\n",
    "]\n",
    "\n",
    "def input_checkboxes(items: list, name: str, val_length: int|None = None):\n",
    "    return Fieldset(\n",
    "        *[Label(\n",
    "            Input(\n",
    "                type='checkbox',\n",
    "                name=name,\n",
    "                value=i[:val_length],\n",
    "                checked=True\n",
    "            ), i) for i in items\n",
    "        ]\n",
    "    )\n",
    "\n",
    "show(\n",
    "    input_checkboxes(league_tiers, 'league_tiers', 1)\n",
    ")"
   ]
  },
  {
   "cell_type": "code",
   "execution_count": 89,
   "metadata": {},
   "outputs": [
    {
     "data": {
      "text/html": [
       "<fieldset><label>    <input type=\"checkbox\" name=\"cup_competitions\" value=\"Anglo-Italian Cup\" checked>\n",
       "Anglo-Italian Cup</label><label>    <input type=\"checkbox\" name=\"cup_competitions\" value=\"Associate Members' Cup\" checked>\n",
       "Associate Members&#x27; Cup</label><label>    <input type=\"checkbox\" name=\"cup_competitions\" value=\"FA Cup\" checked>\n",
       "FA Cup</label><label>    <input type=\"checkbox\" name=\"cup_competitions\" value=\"FA Trophy\" checked>\n",
       "FA Trophy</label><label>    <input type=\"checkbox\" name=\"cup_competitions\" value=\"Full Members' Cup\" checked>\n",
       "Full Members&#x27; Cup</label><label>    <input type=\"checkbox\" name=\"cup_competitions\" value=\"League Cup\" checked>\n",
       "League Cup</label><label>    <input type=\"checkbox\" name=\"cup_competitions\" value=\"Third Division Cup\" checked>\n",
       "Third Division Cup</label></fieldset>"
      ],
      "text/plain": [
       "<IPython.core.display.HTML object>"
      ]
     },
     "metadata": {},
     "output_type": "display_data"
    }
   ],
   "source": [
    "cup_competitions = get_unique('results', 'generic_comp', 'game_type=\"Cup\"')\n",
    "\n",
    "show(\n",
    "    input_checkboxes(cup_competitions, 'cup_competitions')\n",
    ")"
   ]
  },
  {
   "cell_type": "code",
   "execution_count": 95,
   "metadata": {},
   "outputs": [
    {
     "data": {
      "text/html": [
       "<fieldset><label>    <input type=\"checkbox\" name=\"venues\" value=\"H\" checked>\n",
       "Home</label><label>    <input type=\"checkbox\" name=\"venues\" value=\"A\" checked>\n",
       "Away</label><label>    <input type=\"checkbox\" name=\"venues\" value=\"N\" checked>\n",
       "Neutral</label></fieldset>"
      ],
      "text/plain": [
       "<IPython.core.display.HTML object>"
      ]
     },
     "metadata": {},
     "output_type": "display_data"
    },
    {
     "data": {
      "text/markdown": [
       "```html\n",
       "<fieldset><label>    <input type=\"checkbox\" name=\"venues\" value=\"H\" checked>\n",
       "Home</label><label>    <input type=\"checkbox\" name=\"venues\" value=\"A\" checked>\n",
       "Away</label><label>    <input type=\"checkbox\" name=\"venues\" value=\"N\" checked>\n",
       "Neutral</label></fieldset>\n",
       "```"
      ],
      "text/plain": [
       "fieldset((label((input((),{'type': 'checkbox', 'name': 'venues', 'value': 'H', 'checked': True}), 'Home'),{}), label((input((),{'type': 'checkbox', 'name': 'venues', 'value': 'A', 'checked': True}), 'Away'),{}), label((input((),{'type': 'checkbox', 'name': 'venues', 'value': 'N', 'checked': True}), 'Neutral'),{})),{})"
      ]
     },
     "execution_count": 95,
     "metadata": {},
     "output_type": "execute_result"
    }
   ],
   "source": [
    "venues = ['Home', 'Away', 'Neutral']\n",
    "\n",
    "show(\n",
    "    input_checkboxes(venues, 'venues', 1)\n",
    ")\n",
    "\n",
    "input_checkboxes(venues, 'venues', 1)"
   ]
  },
  {
   "cell_type": "code",
   "execution_count": 90,
   "metadata": {},
   "outputs": [
    {
     "data": {
      "text/html": [
       "<fieldset><label>    <input type=\"checkbox\" role=\"switch\" value checked id=\"include_playoffs\" name=\"include_playoffs\">\n",
       "Include Playoffs</label></fieldset>"
      ],
      "text/plain": [
       "<IPython.core.display.HTML object>"
      ]
     },
     "metadata": {},
     "output_type": "display_data"
    }
   ],
   "source": [
    "def input_switch(label: str, id:str, value:bool, checked:bool): return Fieldset(\n",
    "    Label(\n",
    "        Input(\n",
    "            type='checkbox',\n",
    "            role='switch',\n",
    "            id=f'{id}',\n",
    "            value=value,\n",
    "            checked=checked \n",
    "        ),\n",
    "        f'{label}',\n",
    "    )\n",
    ")\n",
    "\n",
    "show(input_switch('Include Playoffs', 'include_playoffs', True, True))"
   ]
  },
  {
   "cell_type": "code",
   "execution_count": 91,
   "metadata": {},
   "outputs": [
    {
     "data": {
      "text/html": [
       "<fieldset id=\"include_playoffs\"><legend>Include Playoffs</legend><label>    <input type=\"radio\" name=\"include_playoffs\" value=\"Yes\" checked>\n",
       "Yes</label><label>    <input type=\"radio\" name=\"include_playoffs\" value=\"No\">\n",
       "No</label></fieldset>"
      ],
      "text/plain": [
       "<IPython.core.display.HTML object>"
      ]
     },
     "metadata": {},
     "output_type": "display_data"
    }
   ],
   "source": [
    "def input_radio(title: str, id:str, name:str, values:list, checked:list): return Fieldset(\n",
    "    Legend(f'{title}'),\n",
    "    *[Label(\n",
    "        Input(\n",
    "            type='radio', \n",
    "            name=name,\n",
    "            value=value,\n",
    "            checked=True if value == checked else False\n",
    "        ),\n",
    "        f\"{value}\"\n",
    "    ) for value in values],\n",
    "    id=f'{id}'\n",
    ")\n",
    "\n",
    "show(input_radio('Include Playoffs', 'include_playoffs', 'include_playoffs', ['Yes', 'No'], 'Yes'))"
   ]
  },
  {
   "cell_type": "code",
   "execution_count": 105,
   "metadata": {},
   "outputs": [
    {
     "data": {
      "text/html": [
       "<form enctype=\"multipart/form-data\">  <h2>Select Seasons</h2>\n",
       "  <div class=\"grid\">\n",
       "    <div>\n",
       "<label>Minimum        <input type=\"number\" min=\"1921\" max=\"2024\" value=\"1921\" id=\"min_season\" name=\"min_season\">\n",
       "</label>    </div>\n",
       "    <div>\n",
       "<label>Maximum        <input type=\"number\" min=\"1921\" max=\"2024\" value=\"2024\" id=\"max_season\" name=\"max_season\">\n",
       "</label>    </div>\n",
       "  </div>\n",
       "<hr>  <h2>Leagues</h2>\n",
       "<fieldset><label>      <input type=\"checkbox\" name=\"league_tiers\" value=\"2: Championship\" checked>\n",
       "2: Championship</label><label>      <input type=\"checkbox\" name=\"league_tiers\" value=\"3: League One\" checked>\n",
       "3: League One</label><label>      <input type=\"checkbox\" name=\"league_tiers\" value=\"4: League Two\" checked>\n",
       "4: League Two</label><label>      <input type=\"checkbox\" name=\"league_tiers\" value=\"5: National League\" checked>\n",
       "5: National League</label></fieldset><fieldset><label>      <input type=\"checkbox\" role=\"switch\" value checked id=\"include_playoffs\" name=\"include_playoffs\">\n",
       "Include Playoffs</label></fieldset><hr>  <h2>Cup Competitions</h2>\n",
       "<fieldset><label>      <input type=\"checkbox\" name=\"cup_competitions\" value=\"Anglo-Italian Cup\" checked>\n",
       "Anglo-Italian Cup</label><label>      <input type=\"checkbox\" name=\"cup_competitions\" value=\"Associate Members' Cup\" checked>\n",
       "Associate Members&#x27; Cup</label><label>      <input type=\"checkbox\" name=\"cup_competitions\" value=\"FA Cup\" checked>\n",
       "FA Cup</label><label>      <input type=\"checkbox\" name=\"cup_competitions\" value=\"FA Trophy\" checked>\n",
       "FA Trophy</label><label>      <input type=\"checkbox\" name=\"cup_competitions\" value=\"Full Members' Cup\" checked>\n",
       "Full Members&#x27; Cup</label><label>      <input type=\"checkbox\" name=\"cup_competitions\" value=\"League Cup\" checked>\n",
       "League Cup</label><label>      <input type=\"checkbox\" name=\"cup_competitions\" value=\"Third Division Cup\" checked>\n",
       "Third Division Cup</label></fieldset><fieldset><label>      <input type=\"checkbox\" role=\"switch\" value checked id=\"pens_as_draw\" name=\"pens_as_draw\">\n",
       "Treat one-off cup games decided by penalty shoot-out as draws</label></fieldset><hr>  <h2>Venues</h2>\n",
       "<fieldset><label>      <input type=\"checkbox\" name=\"venues\" value=\"H\" checked>\n",
       "Home</label><label>      <input type=\"checkbox\" name=\"venues\" value=\"A\" checked>\n",
       "Away</label><label>      <input type=\"checkbox\" name=\"venues\" value=\"N\" checked>\n",
       "Neutral</label></fieldset><hr><label>Minimum Meetings    <input type=\"number\" min=\"1\" max=\"65\" value=\"10\" id=\"min_meetings\" name=\"min_meetings\">\n",
       "</label></form>"
      ],
      "text/plain": [
       "<IPython.core.display.HTML object>"
      ]
     },
     "metadata": {},
     "output_type": "display_data"
    },
    {
     "data": {
      "text/markdown": [
       "```html\n",
       "<form enctype=\"multipart/form-data\">  <h2>Select Seasons</h2>\n",
       "  <div class=\"grid\">\n",
       "    <div>\n",
       "<label>Minimum        <input type=\"number\" min=\"1921\" max=\"2024\" value=\"1921\" id=\"min_season\" name=\"min_season\">\n",
       "</label>    </div>\n",
       "    <div>\n",
       "<label>Maximum        <input type=\"number\" min=\"1921\" max=\"2024\" value=\"2024\" id=\"max_season\" name=\"max_season\">\n",
       "</label>    </div>\n",
       "  </div>\n",
       "<hr>  <h2>Leagues</h2>\n",
       "<fieldset><label>      <input type=\"checkbox\" name=\"league_tiers\" value=\"2: Championship\" checked>\n",
       "2: Championship</label><label>      <input type=\"checkbox\" name=\"league_tiers\" value=\"3: League One\" checked>\n",
       "3: League One</label><label>      <input type=\"checkbox\" name=\"league_tiers\" value=\"4: League Two\" checked>\n",
       "4: League Two</label><label>      <input type=\"checkbox\" name=\"league_tiers\" value=\"5: National League\" checked>\n",
       "5: National League</label></fieldset><fieldset><label>      <input type=\"checkbox\" role=\"switch\" value checked id=\"include_playoffs\" name=\"include_playoffs\">\n",
       "Include Playoffs</label></fieldset><hr>  <h2>Cup Competitions</h2>\n",
       "<fieldset><label>      <input type=\"checkbox\" name=\"cup_competitions\" value=\"Anglo-Italian Cup\" checked>\n",
       "Anglo-Italian Cup</label><label>      <input type=\"checkbox\" name=\"cup_competitions\" value=\"Associate Members' Cup\" checked>\n",
       "Associate Members&#x27; Cup</label><label>      <input type=\"checkbox\" name=\"cup_competitions\" value=\"FA Cup\" checked>\n",
       "FA Cup</label><label>      <input type=\"checkbox\" name=\"cup_competitions\" value=\"FA Trophy\" checked>\n",
       "FA Trophy</label><label>      <input type=\"checkbox\" name=\"cup_competitions\" value=\"Full Members' Cup\" checked>\n",
       "Full Members&#x27; Cup</label><label>      <input type=\"checkbox\" name=\"cup_competitions\" value=\"League Cup\" checked>\n",
       "League Cup</label><label>      <input type=\"checkbox\" name=\"cup_competitions\" value=\"Third Division Cup\" checked>\n",
       "Third Division Cup</label></fieldset><fieldset><label>      <input type=\"checkbox\" role=\"switch\" value checked id=\"pens_as_draw\" name=\"pens_as_draw\">\n",
       "Treat one-off cup games decided by penalty shoot-out as draws</label></fieldset><hr>  <h2>Venues</h2>\n",
       "<fieldset><label>      <input type=\"checkbox\" name=\"venues\" value=\"H\" checked>\n",
       "Home</label><label>      <input type=\"checkbox\" name=\"venues\" value=\"A\" checked>\n",
       "Away</label><label>      <input type=\"checkbox\" name=\"venues\" value=\"N\" checked>\n",
       "Neutral</label></fieldset><hr><label>Minimum Meetings    <input type=\"number\" min=\"1\" max=\"65\" value=\"10\" id=\"min_meetings\" name=\"min_meetings\">\n",
       "</label></form>\n",
       "```"
      ],
      "text/plain": [
       "form((h2(('Select Seasons',),{}), div((div((label(('Minimum', input((),{'type': 'number', 'min': 1921, 'max': 2024, 'value': 1921, 'id': 'min_season', 'name': 'min_season'})),{}),),{}), div((label(('Maximum', input((),{'type': 'number', 'min': 1921, 'max': 2024, 'value': 2024, 'id': 'max_season', 'name': 'max_season'})),{}),),{})),{'class': 'grid'}), hr((),{}), h2(('Leagues',),{}), fieldset((label((input((),{'type': 'checkbox', 'name': 'league_tiers', 'value': '2: Championship', 'checked': True}), '2: Championship'),{}), label((input((),{'type': 'checkbox', 'name': 'league_tiers', 'value': '3: League One', 'checked': True}), '3: League One'),{}), label((input((),{'type': 'checkbox', 'name': 'league_tiers', 'value': '4: League Two', 'checked': True}), '4: League Two'),{}), label((input((),{'type': 'checkbox', 'name': 'league_tiers', 'value': '5: National League', 'checked': True}), '5: National League'),{})),{}), fieldset((label((input((),{'type': 'checkbox', 'role': 'switch', 'value': True, 'checked': True, 'id': 'include_playoffs', 'name': 'include_playoffs'}), 'Include Playoffs'),{}),),{}), hr((),{}), h2(('Cup Competitions',),{}), fieldset((label((input((),{'type': 'checkbox', 'name': 'cup_competitions', 'value': 'Anglo-Italian Cup', 'checked': True}), 'Anglo-Italian Cup'),{}), label((input((),{'type': 'checkbox', 'name': 'cup_competitions', 'value': \"Associate Members' Cup\", 'checked': True}), \"Associate Members' Cup\"),{}), label((input((),{'type': 'checkbox', 'name': 'cup_competitions', 'value': 'FA Cup', 'checked': True}), 'FA Cup'),{}), label((input((),{'type': 'checkbox', 'name': 'cup_competitions', 'value': 'FA Trophy', 'checked': True}), 'FA Trophy'),{}), label((input((),{'type': 'checkbox', 'name': 'cup_competitions', 'value': \"Full Members' Cup\", 'checked': True}), \"Full Members' Cup\"),{}), label((input((),{'type': 'checkbox', 'name': 'cup_competitions', 'value': 'League Cup', 'checked': True}), 'League Cup'),{}), label((input((),{'type': 'checkbox', 'name': 'cup_competitions', 'value': 'Third Division Cup', 'checked': True}), 'Third Division Cup'),{})),{}), fieldset((label((input((),{'type': 'checkbox', 'role': 'switch', 'value': True, 'checked': True, 'id': 'pens_as_draw', 'name': 'pens_as_draw'}), 'Treat one-off cup games decided by penalty shoot-out as draws'),{}),),{}), hr((),{}), h2(('Venues',),{}), fieldset((label((input((),{'type': 'checkbox', 'name': 'venues', 'value': 'H', 'checked': True}), 'Home'),{}), label((input((),{'type': 'checkbox', 'name': 'venues', 'value': 'A', 'checked': True}), 'Away'),{}), label((input((),{'type': 'checkbox', 'name': 'venues', 'value': 'N', 'checked': True}), 'Neutral'),{})),{}), hr((),{}), label(('Minimum Meetings', input((),{'type': 'number', 'min': 1, 'max': 65, 'value': 10, 'id': 'min_meetings', 'name': 'min_meetings'})),{})),{'enctype': 'multipart/form-data'})"
      ]
     },
     "execution_count": 105,
     "metadata": {},
     "output_type": "execute_result"
    }
   ],
   "source": [
    "show(\n",
    "    Form(\n",
    "        H2('Select Seasons'),\n",
    "        Grid(\n",
    "            input_number('Minimum', 'min_season', 1921, 2024, 1921),\n",
    "            input_number('Maximum', 'max_season', 1921, 2024, 2024)\n",
    "        ),\n",
    "        Hr(),\n",
    "        H2('Leagues'),\n",
    "        input_checkboxes(league_tiers, 'league_tiers'),\n",
    "        input_switch('Include Playoffs', 'include_playoffs', True, True),\n",
    "        Hr(),\n",
    "        H2('Cup Competitions'),\n",
    "        input_checkboxes(cup_competitions, 'cup_competitions'),\n",
    "        input_switch('Treat one-off cup games decided by penalty shoot-out as draws', 'pens_as_draw', True, True),\n",
    "        Hr(),\n",
    "        H2('Venues'),\n",
    "        input_checkboxes(venues, 'venues', 1),\n",
    "        Hr(),\n",
    "        input_number('Minimum Meetings', 'min_meetings', 1, 65, 10)\n",
    "    )\n",
    ")\n",
    "\n",
    "Form(\n",
    "    H2('Select Seasons'),\n",
    "    Grid(\n",
    "        input_number('Minimum', 'min_season', 1921, 2024, 1921),\n",
    "        input_number('Maximum', 'max_season', 1921, 2024, 2024)\n",
    "    ),\n",
    "    Hr(),\n",
    "    H2('Leagues'),\n",
    "    input_checkboxes(league_tiers, 'league_tiers'),\n",
    "    input_switch('Include Playoffs', 'include_playoffs', True, True),\n",
    "    Hr(),\n",
    "    H2('Cup Competitions'),\n",
    "    input_checkboxes(cup_competitions, 'cup_competitions'),\n",
    "    input_switch('Treat one-off cup games decided by penalty shoot-out as draws', 'pens_as_draw', True, True),\n",
    "    Hr(),\n",
    "    H2('Venues'),\n",
    "    input_checkboxes(venues, 'venues', 1),\n",
    "    Hr(),\n",
    "    input_number('Minimum Meetings', 'min_meetings', 1, 65, 10)\n",
    ")"
   ]
  },
  {
   "cell_type": "code",
   "execution_count": 13,
   "metadata": {},
   "outputs": [
    {
     "data": {
      "text/html": [
       "<details class=\"dropdown\"><summary>Select seasons</summary>  <ul>\n",
       "    <li>\n",
       "<label>        <input type=\"checkbox\" name=\"2024\" checked>\n",
       "2024/25</label><label>        <input type=\"checkbox\" name=\"2023\">\n",
       "2023/24</label><label>        <input type=\"checkbox\" name=\"2022\">\n",
       "2022/23</label><label>        <input type=\"checkbox\" name=\"2021\">\n",
       "2021/22</label><label>        <input type=\"checkbox\" name=\"2020\">\n",
       "2020/21</label><label>        <input type=\"checkbox\" name=\"2019\">\n",
       "2019/20</label><label>        <input type=\"checkbox\" name=\"2018\">\n",
       "2018/19</label><label>        <input type=\"checkbox\" name=\"2017\">\n",
       "2017/18</label><label>        <input type=\"checkbox\" name=\"2016\">\n",
       "2016/17</label><label>        <input type=\"checkbox\" name=\"2015\">\n",
       "2015/16</label><label>        <input type=\"checkbox\" name=\"2014\">\n",
       "2014/15</label><label>        <input type=\"checkbox\" name=\"2013\">\n",
       "2013/14</label><label>        <input type=\"checkbox\" name=\"2012\">\n",
       "2012/13</label><label>        <input type=\"checkbox\" name=\"2011\">\n",
       "2011/12</label><label>        <input type=\"checkbox\" name=\"2010\">\n",
       "2010/11</label><label>        <input type=\"checkbox\" name=\"2009\">\n",
       "2009/10</label><label>        <input type=\"checkbox\" name=\"2008\">\n",
       "2008/09</label><label>        <input type=\"checkbox\" name=\"2007\">\n",
       "2007/08</label><label>        <input type=\"checkbox\" name=\"2006\">\n",
       "2006/07</label><label>        <input type=\"checkbox\" name=\"2005\">\n",
       "2005/06</label><label>        <input type=\"checkbox\" name=\"2004\">\n",
       "2004/05</label><label>        <input type=\"checkbox\" name=\"2003\">\n",
       "2003/04</label><label>        <input type=\"checkbox\" name=\"2002\">\n",
       "2002/03</label><label>        <input type=\"checkbox\" name=\"2001\">\n",
       "2001/02</label><label>        <input type=\"checkbox\" name=\"2000\">\n",
       "2000/01</label><label>        <input type=\"checkbox\" name=\"1999\">\n",
       "1999/00</label><label>        <input type=\"checkbox\" name=\"1998\">\n",
       "1998/99</label><label>        <input type=\"checkbox\" name=\"1997\">\n",
       "1997/98</label><label>        <input type=\"checkbox\" name=\"1996\">\n",
       "1996/97</label><label>        <input type=\"checkbox\" name=\"1995\">\n",
       "1995/96</label><label>        <input type=\"checkbox\" name=\"1994\">\n",
       "1994/95</label><label>        <input type=\"checkbox\" name=\"1993\">\n",
       "1993/94</label><label>        <input type=\"checkbox\" name=\"1992\">\n",
       "1992/93</label><label>        <input type=\"checkbox\" name=\"1991\">\n",
       "1991/92</label><label>        <input type=\"checkbox\" name=\"1990\">\n",
       "1990/91</label><label>        <input type=\"checkbox\" name=\"1989\">\n",
       "1989/90</label><label>        <input type=\"checkbox\" name=\"1988\">\n",
       "1988/89</label><label>        <input type=\"checkbox\" name=\"1987\">\n",
       "1987/88</label><label>        <input type=\"checkbox\" name=\"1986\">\n",
       "1986/87</label><label>        <input type=\"checkbox\" name=\"1985\">\n",
       "1985/86</label><label>        <input type=\"checkbox\" name=\"1984\">\n",
       "1984/85</label><label>        <input type=\"checkbox\" name=\"1983\">\n",
       "1983/84</label><label>        <input type=\"checkbox\" name=\"1982\">\n",
       "1982/83</label><label>        <input type=\"checkbox\" name=\"1981\">\n",
       "1981/82</label><label>        <input type=\"checkbox\" name=\"1980\">\n",
       "1980/81</label><label>        <input type=\"checkbox\" name=\"1979\">\n",
       "1979/80</label><label>        <input type=\"checkbox\" name=\"1978\">\n",
       "1978/79</label><label>        <input type=\"checkbox\" name=\"1977\">\n",
       "1977/78</label><label>        <input type=\"checkbox\" name=\"1976\">\n",
       "1976/77</label><label>        <input type=\"checkbox\" name=\"1975\">\n",
       "1975/76</label><label>        <input type=\"checkbox\" name=\"1974\">\n",
       "1974/75</label><label>        <input type=\"checkbox\" name=\"1973\">\n",
       "1973/74</label><label>        <input type=\"checkbox\" name=\"1972\">\n",
       "1972/73</label><label>        <input type=\"checkbox\" name=\"1971\">\n",
       "1971/72</label><label>        <input type=\"checkbox\" name=\"1970\">\n",
       "1970/71</label><label>        <input type=\"checkbox\" name=\"1969\">\n",
       "1969/70</label><label>        <input type=\"checkbox\" name=\"1968\">\n",
       "1968/69</label><label>        <input type=\"checkbox\" name=\"1967\">\n",
       "1967/68</label><label>        <input type=\"checkbox\" name=\"1966\">\n",
       "1966/67</label><label>        <input type=\"checkbox\" name=\"1965\">\n",
       "1965/66</label><label>        <input type=\"checkbox\" name=\"1964\">\n",
       "1964/65</label><label>        <input type=\"checkbox\" name=\"1963\">\n",
       "1963/64</label><label>        <input type=\"checkbox\" name=\"1962\">\n",
       "1962/63</label><label>        <input type=\"checkbox\" name=\"1961\">\n",
       "1961/62</label><label>        <input type=\"checkbox\" name=\"1960\">\n",
       "1960/61</label><label>        <input type=\"checkbox\" name=\"1959\">\n",
       "1959/60</label><label>        <input type=\"checkbox\" name=\"1958\">\n",
       "1958/59</label><label>        <input type=\"checkbox\" name=\"1957\">\n",
       "1957/58</label><label>        <input type=\"checkbox\" name=\"1956\">\n",
       "1956/57</label><label>        <input type=\"checkbox\" name=\"1955\">\n",
       "1955/56</label><label>        <input type=\"checkbox\" name=\"1954\">\n",
       "1954/55</label><label>        <input type=\"checkbox\" name=\"1953\">\n",
       "1953/54</label><label>        <input type=\"checkbox\" name=\"1952\">\n",
       "1952/53</label><label>        <input type=\"checkbox\" name=\"1951\">\n",
       "1951/52</label><label>        <input type=\"checkbox\" name=\"1950\">\n",
       "1950/51</label><label>        <input type=\"checkbox\" name=\"1949\">\n",
       "1949/50</label><label>        <input type=\"checkbox\" name=\"1948\">\n",
       "1948/49</label><label>        <input type=\"checkbox\" name=\"1947\">\n",
       "1947/48</label><label>        <input type=\"checkbox\" name=\"1946\">\n",
       "1946/47</label><label>        <input type=\"checkbox\" name=\"1945\">\n",
       "1945/46</label><label>        <input type=\"checkbox\" name=\"1944\">\n",
       "1944/45</label><label>        <input type=\"checkbox\" name=\"1943\">\n",
       "1943/44</label><label>        <input type=\"checkbox\" name=\"1942\">\n",
       "1942/43</label><label>        <input type=\"checkbox\" name=\"1941\">\n",
       "1941/42</label><label>        <input type=\"checkbox\" name=\"1940\">\n",
       "1940/41</label><label>        <input type=\"checkbox\" name=\"1939\">\n",
       "1939/40</label><label>        <input type=\"checkbox\" name=\"1938\">\n",
       "1938/39</label><label>        <input type=\"checkbox\" name=\"1937\">\n",
       "1937/38</label><label>        <input type=\"checkbox\" name=\"1936\">\n",
       "1936/37</label><label>        <input type=\"checkbox\" name=\"1935\">\n",
       "1935/36</label><label>        <input type=\"checkbox\" name=\"1934\">\n",
       "1934/35</label><label>        <input type=\"checkbox\" name=\"1933\">\n",
       "1933/34</label><label>        <input type=\"checkbox\" name=\"1932\">\n",
       "1932/33</label><label>        <input type=\"checkbox\" name=\"1931\">\n",
       "1931/32</label><label>        <input type=\"checkbox\" name=\"1930\">\n",
       "1930/31</label><label>        <input type=\"checkbox\" name=\"1929\">\n",
       "1929/30</label><label>        <input type=\"checkbox\" name=\"1928\">\n",
       "1928/29</label><label>        <input type=\"checkbox\" name=\"1927\">\n",
       "1927/28</label><label>        <input type=\"checkbox\" name=\"1926\">\n",
       "1926/27</label><label>        <input type=\"checkbox\" name=\"1925\">\n",
       "1925/26</label><label>        <input type=\"checkbox\" name=\"1924\">\n",
       "1924/25</label><label>        <input type=\"checkbox\" name=\"1923\">\n",
       "1923/24</label><label>        <input type=\"checkbox\" name=\"1922\">\n",
       "1922/23</label><label>        <input type=\"checkbox\" name=\"1921\">\n",
       "1921/22</label>    </li>\n",
       "  </ul>\n",
       "</details>"
      ],
      "text/plain": [
       "<IPython.core.display.HTML object>"
      ]
     },
     "metadata": {},
     "output_type": "display_data"
    }
   ],
   "source": [
    "seasons = get_unique('results', 'season', direction='DESC')\n",
    "\n",
    "ssn_dropdown = Details(\n",
    "    Summary('Select seasons'),\n",
    "    Ul(\n",
    "        Li(Label(Input(type='checkbox', name=ssn[:4], checked=True if ssn==max(seasons) else False), ssn) for ssn in seasons)\n",
    "    ),\n",
    "    cls='dropdown'\n",
    ")\n",
    "\n",
    "show(ssn_dropdown)"
   ]
  },
  {
   "cell_type": "code",
   "execution_count": null,
   "metadata": {},
   "outputs": [],
   "source": []
  }
 ],
 "metadata": {
  "kernelspec": {
   "display_name": "3.12.5",
   "language": "python",
   "name": "python3"
  },
  "language_info": {
   "codemirror_mode": {
    "name": "ipython",
    "version": 3
   },
   "file_extension": ".py",
   "mimetype": "text/x-python",
   "name": "python",
   "nbconvert_exporter": "python",
   "pygments_lexer": "ipython3",
   "version": "3.12.5"
  }
 },
 "nbformat": 4,
 "nbformat_minor": 2
}
