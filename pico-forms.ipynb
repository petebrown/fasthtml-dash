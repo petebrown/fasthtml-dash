{
 "cells": [
  {
   "cell_type": "code",
   "execution_count": 1,
   "metadata": {},
   "outputs": [],
   "source": [
    "from starlette.testclient import TestClient\n",
    "from fasthtml.common import *\n",
    "from fasthtml.jupyter import JupyUvi, HTMX\n",
    "from dataclasses import dataclass, field\n",
    "from typing import List, Literal"
   ]
  },
  {
   "cell_type": "code",
   "execution_count": 2,
   "metadata": {},
   "outputs": [
    {
     "data": {
      "application/javascript": "var sel = '.cell-output, .output_area';\ndocument.querySelectorAll(sel).forEach(e => e.classList.add('pico'));\n\nnew MutationObserver(ms => {\n  ms.forEach(m => {\n    m.addedNodes.forEach(n => {\n      if (n.nodeType === 1) {\n        var nc = n.classList;\n        if (nc && (nc.contains('cell-output') || nc.contains('output_area'))) nc.add('pico');\n        n.querySelectorAll(sel).forEach(e => e.classList.add('pico'));\n      }\n    });\n  });\n}).observe(document.body, { childList: true, subtree: true });",
      "text/plain": [
       "<IPython.core.display.Javascript object>"
      ]
     },
     "execution_count": 2,
     "metadata": {},
     "output_type": "execute_result"
    }
   ],
   "source": [
    "set_pico_cls()"
   ]
  },
  {
   "cell_type": "code",
   "execution_count": 3,
   "metadata": {},
   "outputs": [
    {
     "data": {
      "text/html": [
       "<link rel=\"stylesheet\" href=\"https://cdn.jsdelivr.net/npm/@picocss/pico@latest/css/pico.min.css\">\n",
       "<style>:root { --pico-font-size: 100%; }</style>\n"
      ],
      "text/plain": [
       "<IPython.core.display.HTML object>"
      ]
     },
     "metadata": {},
     "output_type": "display_data"
    }
   ],
   "source": [
    "show(picolink)"
   ]
  },
  {
   "cell_type": "code",
   "execution_count": 4,
   "metadata": {},
   "outputs": [
    {
     "data": {
      "text/html": [
       "<form enctype=\"multipart/form-data\"><fieldset name=\"stuff\">    <input value=\"Profit\" id=\"title\" class=\"char\" name=\"title\">\n",
       "<label class=\"px-2\">      <input type=\"checkbox\" name=\"done\" data-foo=\"bar\" class=\"checkboxer\" checked=\"1\">\n",
       "Done</label>    <input type=\"hidden\" id=\"id\" name=\"id\" value=\"2\">\n",
       "<select name=\"opt\"><option value=\"a\"></option><option value=\"b\" selected=\"1\"></option></select><textarea id=\"details\" name=\"details\">Details</textarea><button>Save</button></fieldset></form>"
      ],
      "text/plain": [
       "<IPython.core.display.HTML object>"
      ]
     },
     "metadata": {},
     "output_type": "display_data"
    }
   ],
   "source": [
    "@dataclass\n",
    "class TodoItem:\n",
    "    title:str; id:int; done:bool; details:str; opt:str='a'\n",
    "\n",
    "todo = TodoItem(id=2, title=\"Profit\", done=True, details=\"Details\", opt='b')\n",
    "check = Label(Input(type=\"checkbox\", cls=\"checkboxer\", name=\"done\", data_foo=\"bar\"), \"Done\", cls='px-2')\n",
    "\n",
    "form = Form(\n",
    "    Fieldset(\n",
    "        Input(cls=\"char\", id=\"title\", value=\"a\"),\n",
    "        check,\n",
    "        Input(type=\"hidden\", id=\"id\"),\n",
    "        Select(Option(value='a'), Option(value='b'), name='opt'),\n",
    "        Textarea(id='details'), Button(\"Save\"),\n",
    "        name=\"stuff\"\n",
    "    )\n",
    ")\n",
    "form = fill_form(form, todo)\n",
    "assert '<textarea id=\"details\" name=\"details\">Details</textarea>' in to_xml(form)\n",
    "\n",
    "show(form)"
   ]
  },
  {
   "cell_type": "code",
   "execution_count": 5,
   "metadata": {},
   "outputs": [
    {
     "data": {
      "text/html": [
       "<form enctype=\"multipart/form-data\"><fieldset><label>      <input type=\"checkbox\" name=\"items\" value=\"a\" checked=\"1\">\n",
       "a</label><label>      <input type=\"checkbox\" name=\"items\" value=\"b\">\n",
       "b</label><label>      <input type=\"checkbox\" name=\"items\" value=\"c\" checked=\"1\">\n",
       "c</label></fieldset></form>"
      ],
      "text/plain": [
       "<IPython.core.display.HTML object>"
      ]
     },
     "metadata": {},
     "output_type": "display_data"
    }
   ],
   "source": [
    "@dataclass\n",
    "class MultiCheck:\n",
    "    items: list[str]\n",
    "\n",
    "multicheck = MultiCheck(items=['a', 'c'])\n",
    "multiform = Form(\n",
    "    Fieldset(\n",
    "        Label(\n",
    "            Input(\n",
    "                type='checkbox',\n",
    "                name='items',\n",
    "                value='a'\n",
    "            ), 'a'),\n",
    "                          Label(Input(type='checkbox', name='items', value='b'), 'b'),\n",
    "                          Label(Input(type='checkbox', name='items', value='c'), 'c')))\n",
    "multiform = fill_form(multiform, multicheck)\n",
    "assert '<input type=\"checkbox\" name=\"items\" value=\"a\" checked=\"1\">' in to_xml(multiform)\n",
    "assert '<input type=\"checkbox\" name=\"items\" value=\"b\">' in to_xml(multiform)\n",
    "assert '<input type=\"checkbox\" name=\"items\" value=\"c\" checked=\"1\">' in to_xml(multiform)\n",
    "\n",
    "show(multiform)"
   ]
  },
  {
   "cell_type": "code",
   "execution_count": 6,
   "metadata": {},
   "outputs": [
    {
     "data": {
      "text/markdown": [
       "```html\n",
       "<form enctype=\"multipart/form-data\"><fieldset><label>      <input type=\"checkbox\" name=\"items\" value=\"a\" checked=\"1\">\n",
       "a</label><label>      <input type=\"checkbox\" name=\"items\" value=\"b\">\n",
       "b</label><label>      <input type=\"checkbox\" name=\"items\" value=\"c\" checked=\"1\">\n",
       "c</label></fieldset></form>\n",
       "```"
      ],
      "text/plain": [
       "form((fieldset((label((input((),{'type': 'checkbox', 'name': 'items', 'value': 'a', 'checked': '1'}), 'a'),{}), label((input((),{'type': 'checkbox', 'name': 'items', 'value': 'b'}), 'b'),{}), label((input((),{'type': 'checkbox', 'name': 'items', 'value': 'c', 'checked': '1'}), 'c'),{})),{}),),{'enctype': 'multipart/form-data'})"
      ]
     },
     "execution_count": 6,
     "metadata": {},
     "output_type": "execute_result"
    }
   ],
   "source": [
    "multiform"
   ]
  },
  {
   "cell_type": "code",
   "execution_count": 7,
   "metadata": {},
   "outputs": [
    {
     "data": {
      "text/html": [
       "MultiCheck(items=['a', 'c'])"
      ],
      "text/plain": [
       "<IPython.core.display.HTML object>"
      ]
     },
     "metadata": {},
     "output_type": "display_data"
    }
   ],
   "source": [
    "show(multicheck)"
   ]
  },
  {
   "cell_type": "code",
   "execution_count": 8,
   "metadata": {},
   "outputs": [
    {
     "data": {
      "text/plain": [
       "TodoItem(title='Profit', id=2, done=True, details='Details', opt='b')"
      ]
     },
     "execution_count": 8,
     "metadata": {},
     "output_type": "execute_result"
    }
   ],
   "source": [
    "nt = TodoItem('', 0, False, '')\n",
    "fill_dataclass(todo, nt)\n",
    "nt"
   ]
  },
  {
   "cell_type": "code",
   "execution_count": 9,
   "metadata": {},
   "outputs": [
    {
     "data": {
      "text/plain": [
       "(input((),{'type': 'hidden', 'value': '', 'skip': True}),\n",
       " label((input((),{'type': 'checkbox', 'checked': True, 'value': '1'}), 'Check me out!'),{}))"
      ]
     },
     "execution_count": 9,
     "metadata": {},
     "output_type": "execute_result"
    }
   ],
   "source": [
    "CheckboxX(True, 'Check me out!')"
   ]
  },
  {
   "cell_type": "code",
   "execution_count": 10,
   "metadata": {},
   "outputs": [
    {
     "data": {
      "text/html": [
       "<input type=\"hidden\" skip>\n",
       "<label>  <input type=\"checkbox\" checked value=\"1\">\n",
       "Check me out!</label>"
      ],
      "text/plain": [
       "<IPython.core.display.HTML object>"
      ]
     },
     "metadata": {},
     "output_type": "display_data"
    }
   ],
   "source": [
    "show(CheckboxX(True, 'Check me out!'))"
   ]
  },
  {
   "cell_type": "code",
   "execution_count": 11,
   "metadata": {},
   "outputs": [
    {
     "data": {
      "text/html": [
       "<article>\n",
       "  <header>\n",
       "    <p>head</p>\n",
       "  </header>\n",
       "body  <footer>\n",
       "    <p>foot</p>\n",
       "  </footer>\n",
       "</article>\n"
      ],
      "text/plain": [
       "<IPython.core.display.HTML object>"
      ]
     },
     "metadata": {},
     "output_type": "display_data"
    }
   ],
   "source": [
    "show(Card('body', header=P('head'), footer=P('foot')))"
   ]
  },
  {
   "cell_type": "code",
   "execution_count": null,
   "metadata": {},
   "outputs": [],
   "source": []
  }
 ],
 "metadata": {
  "kernelspec": {
   "display_name": "3.12.5",
   "language": "python",
   "name": "python3"
  },
  "language_info": {
   "codemirror_mode": {
    "name": "ipython",
    "version": 3
   },
   "file_extension": ".py",
   "mimetype": "text/x-python",
   "name": "python",
   "nbconvert_exporter": "python",
   "pygments_lexer": "ipython3",
   "version": "3.12.5"
  }
 },
 "nbformat": 4,
 "nbformat_minor": 2
}
